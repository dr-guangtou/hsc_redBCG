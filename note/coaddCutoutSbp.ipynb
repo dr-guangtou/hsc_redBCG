{
 "cells": [
  {
   "cell_type": "code",
   "execution_count": 1,
   "metadata": {
    "collapsed": false
   },
   "outputs": [
    {
     "name": "stdout",
     "output_type": "stream",
     "text": [
      "Populating the interactive namespace from numpy and matplotlib\n"
     ]
    }
   ],
   "source": [
    "%pylab inline\n",
    "\n",
    "from __future__ import (division, print_function)\n",
    "\n",
    "import os\n",
    "import copy\n",
    "import argparse\n",
    "import fnmatch\n",
    "import numpy as np\n",
    "\n",
    "import scipy\n",
    "from scipy.interpolate import interp1d\n",
    "\n",
    "# Astropy\n",
    "from astropy.io import fits\n",
    "from astropy    import units as u\n",
    "from astropy.stats import sigma_clip\n",
    "# AstroML\n",
    "from astroML.plotting import hist\n",
    "\n",
    "# Matplotlib related\n",
    "# Matplotlib default settings\n",
    "rcdef = plt.rcParams.copy()\n",
    "pylab.rcParams['figure.figsize'] = 12, 10\n",
    "pylab.rcParams['xtick.major.size'] = 8.0\n",
    "pylab.rcParams['xtick.major.width'] = 2.5\n",
    "pylab.rcParams['xtick.minor.size'] = 4.0\n",
    "pylab.rcParams['xtick.minor.width'] = 2.5\n",
    "pylab.rcParams['ytick.major.size'] = 8.0\n",
    "pylab.rcParams['ytick.major.width'] = 2.5\n",
    "pylab.rcParams['ytick.minor.size'] = 4.0\n",
    "pylab.rcParams['ytick.minor.width'] = 2.5\n",
    "\n",
    "import matplotlib.pyplot as plt\n",
    "from matplotlib.patches import Ellipse\n",
    "from matplotlib.ticker import NullFormatter\n",
    "from matplotlib.ticker import MaxNLocator\n",
    "\n",
    "# Personal\n",
    "import hscUtils as hUtil\n",
    "import galSBP\n",
    "\n",
    "import cPickle as pickle"
   ]
  },
  {
   "cell_type": "code",
   "execution_count": 2,
   "metadata": {
    "collapsed": true
   },
   "outputs": [],
   "source": [
    "# Absolute magnitude of sun in HSC filters\n",
    "\n",
    "# Actuall borrowed from DES filters\n",
    "# Values from magsun.data in FSPS\n",
    "amag_sun_des_g = 5.08\n",
    "amag_sun_des_r = 4.62\n",
    "amag_sun_des_i = 4.52\n",
    "amag_sun_des_z = 4.52\n",
    "amag_sun_des_y = 4.51\n",
    "\n",
    "# Based on http://www.baryons.org/ezgal/filters.php\n",
    "amag_sun_ukiss_y = 4.515"
   ]
  },
  {
   "cell_type": "code",
   "execution_count": 3,
   "metadata": {
    "collapsed": true
   },
   "outputs": [],
   "source": [
    "def getDimming(z1, z0=0.1): \n",
    "    \"\"\"\n",
    "    Get the surface brightness dimming effect.\n",
    "    \n",
    "    Parameters: \n",
    "        z1: Observed redshift \n",
    "        z0: Reference redshift \n",
    "            Default = 0.1\n",
    "    \"\"\"\n",
    "    return (3.0 * np.log10((1.0 + z1) / (1.0 + z0)))"
   ]
  },
  {
   "cell_type": "code",
   "execution_count": 4,
   "metadata": {
    "collapsed": true
   },
   "outputs": [],
   "source": [
    "def normProf(sma, sbp, minSma, maxSma): \n",
    "    \"\"\"\n",
    "    Naive method to normalize the profile. \n",
    "    \n",
    "    Parameters: \n",
    "        sbp    : Array for surface brightness profile \n",
    "        sma    : Radius range \n",
    "        minSma : Minimum SMA\n",
    "        maxSma   Maximum SMA\n",
    "    \"\"\"\n",
    "    offset = np.nanmedian(sbp[(sma >= minSma) & \n",
    "                              (sma <= maxSma)])\n",
    "    return (sbp-offset)"
   ]
  },
  {
   "cell_type": "code",
   "execution_count": 6,
   "metadata": {
    "collapsed": false
   },
   "outputs": [],
   "source": [
    "def pixKpc(redshift, pix=0.168, show=True, npix=1.0):\n",
    "    \"\"\"\n",
    "    Get the corresponding Kpc size of a pixel.  \n",
    "    \n",
    "    Parameters: \n",
    "    \"\"\"\n",
    "    pixKpc = pix * npix * hUtil.cosmoScale(redshift)\n",
    "\n",
    "    if show:\n",
    "        print(\"# %d pixel(s) = %6.3f Kpc\" % (npix, pixKpc))\n",
    "        \n",
    "    return pixKpc"
   ]
  },
  {
   "cell_type": "code",
   "execution_count": 8,
   "metadata": {
    "collapsed": true
   },
   "outputs": [],
   "source": [
    "def logAdd(para1, para2):\n",
    "    \"\"\" Useful for adding magnitudes. \"\"\"\n",
    "    return np.log10((10.0 ** np.asarray(para1)) + \n",
    "                    (10.0 ** np.asarray(para2)))"
   ]
  },
  {
   "cell_type": "code",
   "execution_count": null,
   "metadata": {
    "collapsed": true
   },
   "outputs": [],
   "source": []
  }
 ],
 "metadata": {
  "kernelspec": {
   "display_name": "Python 2",
   "language": "python",
   "name": "python2"
  },
  "language_info": {
   "codemirror_mode": {
    "name": "ipython",
    "version": 2
   },
   "file_extension": ".py",
   "mimetype": "text/x-python",
   "name": "python",
   "nbconvert_exporter": "python",
   "pygments_lexer": "ipython2",
   "version": "2.7.10"
  }
 },
 "nbformat": 4,
 "nbformat_minor": 0
}
