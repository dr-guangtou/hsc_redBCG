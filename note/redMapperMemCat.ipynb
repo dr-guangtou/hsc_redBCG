{
 "cells": [
  {
   "cell_type": "code",
   "execution_count": 1,
   "metadata": {
    "collapsed": false
   },
   "outputs": [
    {
     "name": "stdout",
     "output_type": "stream",
     "text": [
      "Populating the interactive namespace from numpy and matplotlib\n"
     ]
    }
   ],
   "source": [
    "%pylab inline\n",
    "%reload_ext autoreload\n",
    "%autoreload 2\n",
    "\n",
    "from __future__ import division\n",
    "from __future__ import print_function\n",
    "\n",
    "import os\n",
    "import copy\n",
    "import argparse\n",
    "import fnmatch\n",
    "import numpy as np\n",
    "\n",
    "import scipy\n",
    "from scipy.interpolate import interp1d\n",
    "\n",
    "# Astropy\n",
    "from astropy.io import fits\n",
    "from astropy    import units as u\n",
    "from astropy.stats import sigma_clip\n",
    "# AstroML\n",
    "from astroML.plotting import hist\n",
    "# Astropy.Table\n",
    "from astropy.table import Table, Column, MaskedColumn, TableColumns\n",
    "\n",
    "# Matplotlib related\n",
    "# Matplotlib default settings\n",
    "rcdef = plt.rcParams.copy()\n",
    "pylab.rcParams['figure.figsize'] = 12, 10\n",
    "pylab.rcParams['xtick.major.size'] = 8.0\n",
    "pylab.rcParams['xtick.major.width'] = 2.5\n",
    "pylab.rcParams['xtick.minor.size'] = 4.0\n",
    "pylab.rcParams['xtick.minor.width'] = 2.5\n",
    "pylab.rcParams['ytick.major.size'] = 8.0\n",
    "pylab.rcParams['ytick.major.width'] = 2.5\n",
    "pylab.rcParams['ytick.minor.size'] = 4.0\n",
    "pylab.rcParams['ytick.minor.width'] = 2.5\n",
    "pylab.rcParams['legend.numpoints'] = 1\n",
    "\n",
    "import matplotlib.pyplot as plt\n",
    "from matplotlib.patches import Ellipse\n",
    "from matplotlib.ticker import NullFormatter\n",
    "from matplotlib.ticker import MaxNLocator"
   ]
  },
  {
   "cell_type": "code",
   "execution_count": 2,
   "metadata": {
    "collapsed": false
   },
   "outputs": [],
   "source": [
    "# Read in the data\n",
    "catDir = '/Users/songhuang/work/hscs/gama_compare/redmapper'\n",
    "catMem = os.path.join(catDir, 'hsc_redmapper_mem_wide15a_2arcsec_match_flux_cmodel.fits')\n",
    "memData = Table.read(catMem, format='fits')"
   ]
  },
  {
   "cell_type": "code",
   "execution_count": 3,
   "metadata": {
    "collapsed": false
   },
   "outputs": [
    {
     "data": {
      "text/plain": [
       "17385"
      ]
     },
     "execution_count": 3,
     "metadata": {},
     "output_type": "execute_result"
    }
   ],
   "source": [
    "# Number of galaxies\n",
    "len(memData)"
   ]
  },
  {
   "cell_type": "code",
   "execution_count": 4,
   "metadata": {
    "collapsed": false
   },
   "outputs": [],
   "source": [
    "# ID of unique clusters\n",
    "clusters = np.unique(memData['ID_CLUSTER'])"
   ]
  },
  {
   "cell_type": "code",
   "execution_count": 5,
   "metadata": {
    "collapsed": false
   },
   "outputs": [
    {
     "data": {
      "text/plain": [
       "(265,)"
      ]
     },
     "execution_count": 5,
     "metadata": {},
     "output_type": "execute_result"
    }
   ],
   "source": [
    "# Isolate those BCGs\n",
    "bcgs = np.where(memData['OBJID_MEM'] == memData['OBJID_BCG'])\n",
    "bcgs[0].shape"
   ]
  },
  {
   "cell_type": "code",
   "execution_count": 16,
   "metadata": {
    "collapsed": false
   },
   "outputs": [
    {
     "data": {
      "text/plain": [
       "17120"
      ]
     },
     "execution_count": 16,
     "metadata": {},
     "output_type": "execute_result"
    }
   ],
   "source": [
    "# Remove the BCGs from the table \n",
    "memNew = copy.deepcopy(memData)\n",
    "memNew.remove_rows(bcgs)\n",
    "len(memNew)"
   ]
  },
  {
   "cell_type": "code",
   "execution_count": 17,
   "metadata": {
    "collapsed": true
   },
   "outputs": [],
   "source": [
    "# New columns for the outputs\n",
    "newID = np.chararray(len(memNew), itemsize=20)\n",
    "newP = (memNew['P_CEN_1']) * 0.0"
   ]
  },
  {
   "cell_type": "code",
   "execution_count": 18,
   "metadata": {
    "collapsed": false
   },
   "outputs": [],
   "source": [
    "# Add two new columns for New ID and P_CEN value \n",
    "memNew.add_column(Column(name='ID_MEM', data=newID))\n",
    "memNew.add_column(Column(name='P_CEN_MEM', data=newP))"
   ]
  },
  {
   "cell_type": "code",
   "execution_count": 26,
   "metadata": {
    "collapsed": false
   },
   "outputs": [],
   "source": [
    "# Update the P_CEN_MEM\n",
    "memNew['P_CEN_MEM'][memNew['OBJID_MEM'] == memNew['ID_CEN_2']] = memNew[memNew['OBJID_MEM'] == \n",
    "                                                                        memNew['ID_CEN_2']]['P_CEN_2']\n",
    "memNew['P_CEN_MEM'][memNew['OBJID_MEM'] == memNew['ID_CEN_3']] = memNew[memNew['OBJID_MEM'] == \n",
    "                                                                        memNew['ID_CEN_3']]['P_CEN_3']\n",
    "memNew['P_CEN_MEM'][memNew['OBJID_MEM'] == memNew['ID_CEN_4']] = memNew[memNew['OBJID_MEM'] == \n",
    "                                                                        memNew['ID_CEN_4']]['P_CEN_4']\n",
    "memNew['P_CEN_MEM'][memNew['OBJID_MEM'] == memNew['ID_CEN_5']] = memNew[memNew['OBJID_MEM'] == \n",
    "                                                                        memNew['ID_CEN_5']]['P_CEN_5']"
   ]
  },
  {
   "cell_type": "code",
   "execution_count": 27,
   "metadata": {
    "collapsed": false
   },
   "outputs": [
    {
     "data": {
      "text/plain": [
       "0.48453107"
      ]
     },
     "execution_count": 27,
     "metadata": {},
     "output_type": "execute_result"
    }
   ],
   "source": [
    "np.max(memNew['P_CEN_MEM'])"
   ]
  },
  {
   "cell_type": "code",
   "execution_count": 28,
   "metadata": {
    "collapsed": false
   },
   "outputs": [
    {
     "data": {
      "text/plain": [
       "13584"
      ]
     },
     "execution_count": 28,
     "metadata": {},
     "output_type": "execute_result"
    }
   ],
   "source": [
    "# Only select the ones with P_MEM >= 0.2 \n",
    "memGood = memNew[memNew['P_MEM'] > 0.2]\n",
    "len(memGood)"
   ]
  },
  {
   "cell_type": "code",
   "execution_count": 29,
   "metadata": {
    "collapsed": true
   },
   "outputs": [],
   "source": [
    "# Update member ID \n",
    "for cc in clusters:\n",
    "    for ii, index in enumerate(np.where(memGood['ID_1'] == cc)[0]):\n",
    "        memGood['ID_MEM'][index] = str(cc).strip() + '_' + str(ii+1).strip()"
   ]
  },
  {
   "cell_type": "code",
   "execution_count": 30,
   "metadata": {
    "collapsed": false
   },
   "outputs": [],
   "source": [
    "# Save the output catalog \n",
    "outCat = catMem.replace('.fits', '_new.fits')\n",
    "memGood.write(outCat, format='fits', overwrite=True)"
   ]
  }
 ],
 "metadata": {
  "kernelspec": {
   "display_name": "Python 2",
   "language": "python",
   "name": "python2"
  },
  "language_info": {
   "codemirror_mode": {
    "name": "ipython",
    "version": 2
   },
   "file_extension": ".py",
   "mimetype": "text/x-python",
   "name": "python",
   "nbconvert_exporter": "python",
   "pygments_lexer": "ipython2",
   "version": "2.7.11"
  }
 },
 "nbformat": 4,
 "nbformat_minor": 0
}
