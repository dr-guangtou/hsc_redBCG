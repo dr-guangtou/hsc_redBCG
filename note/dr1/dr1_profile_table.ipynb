{
 "cells": [
  {
   "cell_type": "code",
   "execution_count": 1,
   "metadata": {
    "collapsed": true
   },
   "outputs": [],
   "source": [
    "% matplotlib inline\n",
    "from __future__ import (division, \n",
    "                        print_function)\n",
    "\n",
    "import os\n",
    "import sys\n",
    "import copy\n",
    "import fnmatch\n",
    "import warnings\n",
    "import collections\n",
    "\n",
    "import numpy as np\n",
    "import scipy\n",
    "try:\n",
    "    from scipy.stats import scoreatpercentile\n",
    "except:\n",
    "    scoreatpercentile = False\n",
    "from scipy.interpolate import interp1d\n",
    "import cPickle as pickle\n",
    "\n",
    "# Astropy\n",
    "from astropy.io import fits\n",
    "from astropy    import units as u\n",
    "from astropy.stats import sigma_clip\n",
    "from astropy.table import Table, Column\n",
    "from astropy.utils.console import ProgressBar"
   ]
  },
  {
   "cell_type": "markdown",
   "metadata": {},
   "source": [
    "# Read in the FITS tables for the median profiles"
   ]
  },
  {
   "cell_type": "code",
   "execution_count": 12,
   "metadata": {
    "collapsed": true
   },
   "outputs": [],
   "source": [
    "dirProf = 'profiles'\n",
    "\n",
    "rMbin0 = Table.read(os.path.join(dirProf, 'dr1_redbcg_isedfit_mass_fsps1_sbpsum_imgsub_use_mbin1.fits'))\n",
    "rMbin1 = Table.read(os.path.join(dirProf, 'dr1_redbcg_isedfit_mass_fsps1_sbpsum_imgsub_use_mbin2.fits'))\n",
    "rMbin2 = Table.read(os.path.join(dirProf, 'dr1_redbcg_isedfit_mass_fsps1_sbpsum_imgsub_use_mbin3.fits'))\n",
    "\n",
    "rM100C = Table.read(os.path.join(dirProf, 'dr1_redbcg_isedfit_mass_fsps1_sbpsum_imgsub_use_mtotC.fits'))\n",
    "rM10C = Table.read(os.path.join(dirProf, 'dr1_redbcg_isedfit_mass_fsps1_sbpsum_imgsub_use_minnC.fits'))\n",
    "\n",
    "nMbin0 = Table.read(os.path.join(dirProf, 'dr1_nonbcg_isedfit_mass_fsps1_sbpsum_imgsub_use_mbin0.fits'))\n",
    "nMbin1 = Table.read(os.path.join(dirProf, 'dr1_nonbcg_isedfit_mass_fsps1_sbpsum_imgsub_use_mbin1.fits'))\n",
    "nMbin2 = Table.read(os.path.join(dirProf, 'dr1_nonbcg_isedfit_mass_fsps1_sbpsum_imgsub_use_mbin2.fits'))\n",
    "\n",
    "nM100C = Table.read(os.path.join(dirProf, 'dr1_nonbcg_isedfit_mass_fsps1_sbpsum_imgsub_use_mtotC.fits'))\n",
    "nM10C = Table.read(os.path.join(dirProf, 'dr1_nonbcg_isedfit_mass_fsps1_sbpsum_imgsub_use_minnC.fits'))"
   ]
  },
  {
   "cell_type": "code",
   "execution_count": 13,
   "metadata": {
    "collapsed": true
   },
   "outputs": [],
   "source": [
    "rCol = rMbin0['rkpc'] ** 4.0"
   ]
  },
  {
   "cell_type": "code",
   "execution_count": 14,
   "metadata": {
    "collapsed": false
   },
   "outputs": [
    {
     "data": {
      "text/plain": [
       "['rkpc',\n",
       " 'medProfLow',\n",
       " 'medProfUpp',\n",
       " 'medProf',\n",
       " 'avgProfLow',\n",
       " 'avgProfUpp',\n",
       " 'avgProf',\n",
       " 'stdProf']"
      ]
     },
     "execution_count": 14,
     "metadata": {},
     "output_type": "execute_result"
    }
   ],
   "source": [
    "rMbin0.colnames"
   ]
  },
  {
   "cell_type": "markdown",
   "metadata": {},
   "source": [
    "# Formatting the output string"
   ]
  },
  {
   "cell_type": "code",
   "execution_count": 52,
   "metadata": {
    "collapsed": true
   },
   "outputs": [],
   "source": [
    "format1 = \"%4.1f & $%5.2f\\substack{+%4.2f \\\\\\\\ -%4.2f}$ &\"\n",
    "format2 = \"$%5.2f\\substack{+%4.2f \\\\\\\\ -%4.2f}$ &\"\n",
    "format3 = \"$%5.2f\\substack{+%4.2f \\\\\\\\ -%4.2f}$ \\\\\\\\\""
   ]
  },
  {
   "cell_type": "code",
   "execution_count": 72,
   "metadata": {
    "collapsed": false
   },
   "outputs": [
    {
     "name": "stdout",
     "output_type": "stream",
     "text": [
      " 0.0 & $ 9.30\\substack{+0.02 \\\\ -0.02}$ &$ 9.33\\substack{+0.02 \\\\ -0.02}$ &$ 9.34\\substack{+0.02 \\\\ -0.03}$ &$ 9.36\\substack{+0.00 \\\\ -0.00}$ &$ 9.27\\substack{+0.00 \\\\ -0.00}$ &$ 9.32\\substack{+0.01 \\\\ -0.01}$ \\\\\n",
      " 0.5 & $ 9.28\\substack{+0.02 \\\\ -0.02}$ &$ 9.31\\substack{+0.02 \\\\ -0.02}$ &$ 9.32\\substack{+0.03 \\\\ -0.02}$ &$ 9.33\\substack{+0.00 \\\\ -0.00}$ &$ 9.25\\substack{+0.00 \\\\ -0.00}$ &$ 9.30\\substack{+0.01 \\\\ -0.01}$ \\\\\n",
      " 0.8 & $ 9.25\\substack{+0.02 \\\\ -0.02}$ &$ 9.28\\substack{+0.02 \\\\ -0.02}$ &$ 9.30\\substack{+0.02 \\\\ -0.02}$ &$ 9.29\\substack{+0.00 \\\\ -0.00}$ &$ 9.22\\substack{+0.00 \\\\ -0.00}$ &$ 9.27\\substack{+0.01 \\\\ -0.01}$ \\\\\n",
      " 1.2 & $ 9.22\\substack{+0.02 \\\\ -0.02}$ &$ 9.25\\substack{+0.02 \\\\ -0.02}$ &$ 9.28\\substack{+0.02 \\\\ -0.02}$ &$ 9.24\\substack{+0.00 \\\\ -0.00}$ &$ 9.19\\substack{+0.00 \\\\ -0.00}$ &$ 9.24\\substack{+0.01 \\\\ -0.01}$ \\\\\n",
      " 1.5 & $ 9.16\\substack{+0.02 \\\\ -0.01}$ &$ 9.20\\substack{+0.02 \\\\ -0.02}$ &$ 9.24\\substack{+0.02 \\\\ -0.02}$ &$ 9.17\\substack{+0.00 \\\\ -0.00}$ &$ 9.14\\substack{+0.00 \\\\ -0.00}$ &$ 9.20\\substack{+0.01 \\\\ -0.01}$ \\\\\n",
      " 1.9 & $ 9.10\\substack{+0.01 \\\\ -0.01}$ &$ 9.14\\substack{+0.02 \\\\ -0.01}$ &$ 9.19\\substack{+0.02 \\\\ -0.02}$ &$ 9.08\\substack{+0.00 \\\\ -0.00}$ &$ 9.08\\substack{+0.00 \\\\ -0.00}$ &$ 9.15\\substack{+0.01 \\\\ -0.01}$ \\\\\n",
      " 2.2 & $ 9.03\\substack{+0.01 \\\\ -0.01}$ &$ 9.08\\substack{+0.01 \\\\ -0.01}$ &$ 9.14\\substack{+0.02 \\\\ -0.02}$ &$ 9.00\\substack{+0.00 \\\\ -0.00}$ &$ 9.01\\substack{+0.00 \\\\ -0.00}$ &$ 9.09\\substack{+0.01 \\\\ -0.01}$ \\\\\n",
      " 2.5 & $ 8.97\\substack{+0.01 \\\\ -0.01}$ &$ 9.03\\substack{+0.01 \\\\ -0.01}$ &$ 9.10\\substack{+0.02 \\\\ -0.02}$ &$ 8.93\\substack{+0.00 \\\\ -0.00}$ &$ 8.96\\substack{+0.00 \\\\ -0.00}$ &$ 9.04\\substack{+0.01 \\\\ -0.01}$ \\\\\n",
      " 2.9 & $ 8.90\\substack{+0.01 \\\\ -0.01}$ &$ 8.97\\substack{+0.01 \\\\ -0.01}$ &$ 9.04\\substack{+0.02 \\\\ -0.02}$ &$ 8.85\\substack{+0.00 \\\\ -0.00}$ &$ 8.89\\substack{+0.00 \\\\ -0.00}$ &$ 8.98\\substack{+0.01 \\\\ -0.01}$ \\\\\n",
      " 3.2 & $ 8.83\\substack{+0.01 \\\\ -0.01}$ &$ 8.90\\substack{+0.01 \\\\ -0.01}$ &$ 8.99\\substack{+0.01 \\\\ -0.02}$ &$ 8.77\\substack{+0.00 \\\\ -0.00}$ &$ 8.82\\substack{+0.00 \\\\ -0.00}$ &$ 8.91\\substack{+0.00 \\\\ -0.01}$ \\\\\n",
      " 3.6 & $ 8.75\\substack{+0.01 \\\\ -0.01}$ &$ 8.83\\substack{+0.01 \\\\ -0.01}$ &$ 8.93\\substack{+0.01 \\\\ -0.01}$ &$ 8.68\\substack{+0.00 \\\\ -0.00}$ &$ 8.74\\substack{+0.00 \\\\ -0.00}$ &$ 8.84\\substack{+0.01 \\\\ -0.01}$ \\\\\n",
      " 4.0 & $ 8.69\\substack{+0.01 \\\\ -0.01}$ &$ 8.78\\substack{+0.01 \\\\ -0.01}$ &$ 8.88\\substack{+0.01 \\\\ -0.01}$ &$ 8.61\\substack{+0.00 \\\\ -0.00}$ &$ 8.69\\substack{+0.00 \\\\ -0.00}$ &$ 8.79\\substack{+0.01 \\\\ -0.01}$ \\\\\n",
      " 4.3 & $ 8.63\\substack{+0.01 \\\\ -0.01}$ &$ 8.72\\substack{+0.01 \\\\ -0.01}$ &$ 8.83\\substack{+0.01 \\\\ -0.01}$ &$ 8.55\\substack{+0.00 \\\\ -0.00}$ &$ 8.63\\substack{+0.00 \\\\ -0.00}$ &$ 8.73\\substack{+0.01 \\\\ -0.01}$ \\\\\n",
      " 4.7 & $ 8.56\\substack{+0.01 \\\\ -0.01}$ &$ 8.67\\substack{+0.01 \\\\ -0.01}$ &$ 8.78\\substack{+0.01 \\\\ -0.01}$ &$ 8.48\\substack{+0.00 \\\\ -0.00}$ &$ 8.56\\substack{+0.00 \\\\ -0.00}$ &$ 8.68\\substack{+0.01 \\\\ -0.00}$ \\\\\n",
      " 6.1 & $ 8.36\\substack{+0.01 \\\\ -0.01}$ &$ 8.48\\substack{+0.01 \\\\ -0.01}$ &$ 8.61\\substack{+0.01 \\\\ -0.01}$ &$ 8.26\\substack{+0.00 \\\\ -0.00}$ &$ 8.36\\substack{+0.00 \\\\ -0.00}$ &$ 8.48\\substack{+0.01 \\\\ -0.00}$ \\\\\n",
      " 7.4 & $ 8.20\\substack{+0.01 \\\\ -0.01}$ &$ 8.34\\substack{+0.01 \\\\ -0.01}$ &$ 8.47\\substack{+0.01 \\\\ -0.02}$ &$ 8.09\\substack{+0.00 \\\\ -0.00}$ &$ 8.19\\substack{+0.00 \\\\ -0.00}$ &$ 8.33\\substack{+0.01 \\\\ -0.01}$ \\\\\n",
      " 8.8 & $ 8.07\\substack{+0.01 \\\\ -0.01}$ &$ 8.22\\substack{+0.01 \\\\ -0.01}$ &$ 8.36\\substack{+0.02 \\\\ -0.02}$ &$ 7.94\\substack{+0.00 \\\\ -0.00}$ &$ 8.05\\substack{+0.00 \\\\ -0.00}$ &$ 8.20\\substack{+0.01 \\\\ -0.01}$ \\\\\n",
      "10.3 & $ 7.94\\substack{+0.01 \\\\ -0.01}$ &$ 8.10\\substack{+0.01 \\\\ -0.01}$ &$ 8.25\\substack{+0.02 \\\\ -0.02}$ &$ 7.79\\substack{+0.00 \\\\ -0.00}$ &$ 7.91\\substack{+0.00 \\\\ -0.00}$ &$ 8.07\\substack{+0.00 \\\\ -0.01}$ \\\\\n",
      "11.7 & $ 7.82\\substack{+0.01 \\\\ -0.01}$ &$ 8.00\\substack{+0.01 \\\\ -0.01}$ &$ 8.16\\substack{+0.02 \\\\ -0.02}$ &$ 7.66\\substack{+0.00 \\\\ -0.00}$ &$ 7.79\\substack{+0.00 \\\\ -0.00}$ &$ 7.96\\substack{+0.01 \\\\ -0.01}$ \\\\\n",
      "13.0 & $ 7.73\\substack{+0.01 \\\\ -0.01}$ &$ 7.92\\substack{+0.01 \\\\ -0.01}$ &$ 8.08\\substack{+0.02 \\\\ -0.02}$ &$ 7.55\\substack{+0.00 \\\\ -0.00}$ &$ 7.70\\substack{+0.00 \\\\ -0.00}$ &$ 7.87\\substack{+0.01 \\\\ -0.01}$ \\\\\n",
      "14.5 & $ 7.64\\substack{+0.01 \\\\ -0.01}$ &$ 7.84\\substack{+0.02 \\\\ -0.01}$ &$ 8.01\\substack{+0.02 \\\\ -0.02}$ &$ 7.45\\substack{+0.00 \\\\ -0.00}$ &$ 7.60\\substack{+0.00 \\\\ -0.00}$ &$ 7.78\\substack{+0.01 \\\\ -0.01}$ \\\\\n",
      "16.0 & $ 7.55\\substack{+0.02 \\\\ -0.02}$ &$ 7.75\\substack{+0.01 \\\\ -0.01}$ &$ 7.94\\substack{+0.02 \\\\ -0.02}$ &$ 7.34\\substack{+0.00 \\\\ -0.00}$ &$ 7.50\\substack{+0.00 \\\\ -0.00}$ &$ 7.70\\substack{+0.01 \\\\ -0.01}$ \\\\\n",
      "17.3 & $ 7.48\\substack{+0.02 \\\\ -0.02}$ &$ 7.69\\substack{+0.01 \\\\ -0.01}$ &$ 7.88\\substack{+0.02 \\\\ -0.02}$ &$ 7.25\\substack{+0.00 \\\\ -0.00}$ &$ 7.42\\substack{+0.00 \\\\ -0.00}$ &$ 7.63\\substack{+0.01 \\\\ -0.01}$ \\\\\n",
      "18.7 & $ 7.41\\substack{+0.02 \\\\ -0.02}$ &$ 7.62\\substack{+0.02 \\\\ -0.02}$ &$ 7.83\\substack{+0.02 \\\\ -0.02}$ &$ 7.16\\substack{+0.00 \\\\ -0.00}$ &$ 7.34\\substack{+0.00 \\\\ -0.00}$ &$ 7.56\\substack{+0.01 \\\\ -0.01}$ \\\\\n",
      "22.6 & $ 7.23\\substack{+0.02 \\\\ -0.02}$ &$ 7.47\\substack{+0.02 \\\\ -0.02}$ &$ 7.69\\substack{+0.02 \\\\ -0.02}$ &$ 6.94\\substack{+0.00 \\\\ -0.00}$ &$ 7.15\\substack{+0.00 \\\\ -0.00}$ &$ 7.38\\substack{+0.01 \\\\ -0.01}$ \\\\\n",
      "26.1 & $ 7.10\\substack{+0.02 \\\\ -0.02}$ &$ 7.34\\substack{+0.02 \\\\ -0.02}$ &$ 7.58\\substack{+0.02 \\\\ -0.02}$ &$ 6.76\\substack{+0.00 \\\\ -0.00}$ &$ 7.00\\substack{+0.00 \\\\ -0.00}$ &$ 7.25\\substack{+0.01 \\\\ -0.01}$ \\\\\n",
      "30.0 & $ 6.96\\substack{+0.02 \\\\ -0.02}$ &$ 7.22\\substack{+0.02 \\\\ -0.02}$ &$ 7.47\\substack{+0.02 \\\\ -0.02}$ &$ 6.58\\substack{+0.00 \\\\ -0.00}$ &$ 6.84\\substack{+0.00 \\\\ -0.00}$ &$ 7.11\\substack{+0.01 \\\\ -0.01}$ \\\\\n",
      "33.7 & $ 6.84\\substack{+0.02 \\\\ -0.02}$ &$ 7.11\\substack{+0.02 \\\\ -0.02}$ &$ 7.37\\substack{+0.02 \\\\ -0.02}$ &$ 6.42\\substack{+0.01 \\\\ -0.01}$ &$ 6.71\\substack{+0.00 \\\\ -0.00}$ &$ 6.99\\substack{+0.01 \\\\ -0.01}$ \\\\\n",
      "37.8 & $ 6.72\\substack{+0.02 \\\\ -0.02}$ &$ 7.01\\substack{+0.02 \\\\ -0.02}$ &$ 7.27\\substack{+0.02 \\\\ -0.02}$ &$ 6.27\\substack{+0.01 \\\\ -0.01}$ &$ 6.57\\substack{+0.00 \\\\ -0.00}$ &$ 6.87\\substack{+0.01 \\\\ -0.01}$ \\\\\n",
      "41.6 & $ 6.62\\substack{+0.02 \\\\ -0.02}$ &$ 6.92\\substack{+0.02 \\\\ -0.02}$ &$ 7.18\\substack{+0.02 \\\\ -0.02}$ &$ 6.14\\substack{+0.01 \\\\ -0.01}$ &$ 6.46\\substack{+0.00 \\\\ -0.01}$ &$ 6.77\\substack{+0.01 \\\\ -0.01}$ \\\\\n",
      "45.7 & $ 6.50\\substack{+0.03 \\\\ -0.03}$ &$ 6.82\\substack{+0.02 \\\\ -0.02}$ &$ 7.09\\substack{+0.02 \\\\ -0.02}$ &$ 6.01\\substack{+0.01 \\\\ -0.01}$ &$ 6.34\\substack{+0.01 \\\\ -0.00}$ &$ 6.66\\substack{+0.01 \\\\ -0.01}$ \\\\\n",
      "49.3 & $ 6.42\\substack{+0.03 \\\\ -0.03}$ &$ 6.74\\substack{+0.03 \\\\ -0.02}$ &$ 7.02\\substack{+0.02 \\\\ -0.02}$ &$ 5.91\\substack{+0.01 \\\\ -0.01}$ &$ 6.25\\substack{+0.01 \\\\ -0.01}$ &$ 6.57\\substack{+0.01 \\\\ -0.01}$ \\\\\n",
      "53.1 & $ 6.34\\substack{+0.03 \\\\ -0.03}$ &$ 6.67\\substack{+0.03 \\\\ -0.02}$ &$ 6.94\\substack{+0.02 \\\\ -0.02}$ &$ 5.81\\substack{+0.01 \\\\ -0.01}$ &$ 6.15\\substack{+0.01 \\\\ -0.01}$ &$ 6.48\\substack{+0.01 \\\\ -0.01}$ \\\\\n",
      "57.2 & $ 6.25\\substack{+0.03 \\\\ -0.03}$ &$ 6.59\\substack{+0.03 \\\\ -0.03}$ &$ 6.86\\substack{+0.03 \\\\ -0.03}$ &$ 5.71\\substack{+0.01 \\\\ -0.01}$ &$ 6.06\\substack{+0.01 \\\\ -0.01}$ &$ 6.40\\substack{+0.01 \\\\ -0.01}$ \\\\\n",
      "61.5 & $ 6.18\\substack{+0.03 \\\\ -0.03}$ &$ 6.52\\substack{+0.03 \\\\ -0.03}$ &$ 6.78\\substack{+0.03 \\\\ -0.03}$ &$ 5.62\\substack{+0.01 \\\\ -0.01}$ &$ 5.96\\substack{+0.01 \\\\ -0.01}$ &$ 6.31\\substack{+0.01 \\\\ -0.01}$ \\\\\n",
      "65.1 & $ 6.11\\substack{+0.04 \\\\ -0.04}$ &$ 6.46\\substack{+0.03 \\\\ -0.03}$ &$ 6.72\\substack{+0.03 \\\\ -0.03}$ &$ 5.55\\substack{+0.01 \\\\ -0.01}$ &$ 5.89\\substack{+0.01 \\\\ -0.01}$ &$ 6.23\\substack{+0.01 \\\\ -0.01}$ \\\\\n",
      "68.8 & $ 6.02\\substack{+0.04 \\\\ -0.04}$ &$ 6.39\\substack{+0.03 \\\\ -0.03}$ &$ 6.66\\substack{+0.03 \\\\ -0.03}$ &$ 5.48\\substack{+0.01 \\\\ -0.01}$ &$ 5.82\\substack{+0.01 \\\\ -0.01}$ &$ 6.16\\substack{+0.01 \\\\ -0.01}$ \\\\\n",
      "73.7 & $ 5.95\\substack{+0.04 \\\\ -0.05}$ &$ 6.32\\substack{+0.03 \\\\ -0.03}$ &$ 6.58\\substack{+0.03 \\\\ -0.04}$ &$ 5.40\\substack{+0.01 \\\\ -0.01}$ &$ 5.73\\substack{+0.01 \\\\ -0.01}$ &$ 6.07\\substack{+0.01 \\\\ -0.01}$ \\\\\n",
      "78.9 & $ 5.88\\substack{+0.05 \\\\ -0.05}$ &$ 6.24\\substack{+0.03 \\\\ -0.03}$ &$ 6.50\\substack{+0.03 \\\\ -0.04}$ &$ 5.33\\substack{+0.01 \\\\ -0.01}$ &$ 5.65\\substack{+0.01 \\\\ -0.01}$ &$ 5.99\\substack{+0.01 \\\\ -0.01}$ \\\\\n",
      "84.3 & $ 5.79\\substack{+0.06 \\\\ -0.06}$ &$ 6.17\\substack{+0.03 \\\\ -0.03}$ &$ 6.42\\substack{+0.04 \\\\ -0.04}$ &$ 5.26\\substack{+0.01 \\\\ -0.01}$ &$ 5.58\\substack{+0.01 \\\\ -0.01}$ &$ 5.91\\substack{+0.02 \\\\ -0.02}$ \\\\\n",
      "91.2 & $ 5.71\\substack{+0.05 \\\\ -0.06}$ &$ 6.08\\substack{+0.03 \\\\ -0.03}$ &$ 6.31\\substack{+0.05 \\\\ -0.05}$ &$ 5.19\\substack{+0.01 \\\\ -0.01}$ &$ 5.48\\substack{+0.01 \\\\ -0.01}$ &$ 5.81\\substack{+0.02 \\\\ -0.02}$ \\\\\n",
      "98.5 & $ 5.65\\substack{+0.05 \\\\ -0.05}$ &$ 6.00\\substack{+0.03 \\\\ -0.03}$ &$ 6.22\\substack{+0.06 \\\\ -0.07}$ &$ 5.12\\substack{+0.01 \\\\ -0.01}$ &$ 5.40\\substack{+0.01 \\\\ -0.01}$ &$ 5.69\\substack{+0.02 \\\\ -0.02}$ \\\\\n",
      "106.2 & $ 5.55\\substack{+0.06 \\\\ -0.06}$ &$ 5.92\\substack{+0.03 \\\\ -0.03}$ &$ 6.15\\substack{+0.05 \\\\ -0.07}$ &$ 5.05\\substack{+0.01 \\\\ -0.01}$ &$ 5.30\\substack{+0.01 \\\\ -0.01}$ &$ 5.60\\substack{+0.02 \\\\ -0.02}$ \\\\\n",
      "115.7 & $ 5.46\\substack{+0.06 \\\\ -0.06}$ &$ 5.81\\substack{+0.03 \\\\ -0.03}$ &$ 6.08\\substack{+0.04 \\\\ -0.05}$ &$ 4.98\\substack{+0.01 \\\\ -0.02}$ &$ 5.21\\substack{+0.01 \\\\ -0.01}$ &$ 5.51\\substack{+0.02 \\\\ -0.02}$ \\\\\n",
      "123.0 & $ 5.45\\substack{+0.05 \\\\ -0.06}$ &$ 5.72\\substack{+0.04 \\\\ -0.04}$ &$ 6.00\\substack{+0.05 \\\\ -0.04}$ &$ 4.91\\substack{+0.02 \\\\ -0.01}$ &$ 5.16\\substack{+0.01 \\\\ -0.01}$ &$ 5.44\\substack{+0.02 \\\\ -0.02}$ \\\\\n",
      "129.0 & $ 5.43\\substack{+0.05 \\\\ -0.05}$ &$ 5.67\\substack{+0.04 \\\\ -0.04}$ &$ 5.93\\substack{+0.05 \\\\ -0.05}$ &$ 4.85\\substack{+0.02 \\\\ -0.02}$ &$ 5.11\\substack{+0.01 \\\\ -0.01}$ &$ 5.37\\substack{+0.02 \\\\ -0.02}$ \\\\\n",
      "136.8 & $ 5.37\\substack{+0.06 \\\\ -0.06}$ &$ 5.63\\substack{+0.04 \\\\ -0.04}$ &$ 5.82\\substack{+0.06 \\\\ -0.06}$ &$ 4.78\\substack{+0.02 \\\\ -0.02}$ &$ 5.03\\substack{+0.02 \\\\ -0.02}$ &$ 5.29\\substack{+0.02 \\\\ -0.02}$ \\\\\n",
      "145.0 & $ 5.29\\substack{+0.06 \\\\ -0.08}$ &$ 5.57\\substack{+0.04 \\\\ -0.04}$ &$ 5.72\\substack{+0.08 \\\\ -0.08}$ &$ 4.71\\substack{+0.02 \\\\ -0.02}$ &$ 4.96\\substack{+0.02 \\\\ -0.02}$ &$ 5.21\\substack{+0.02 \\\\ -0.03}$ \\\\\n"
     ]
    }
   ],
   "source": [
    "lastM = 0.0\n",
    "lastR = 0.0\n",
    "\n",
    "for ii, rr in enumerate(rCol):\n",
    "    # redbcg Mbin0\n",
    "    col2 = rMbin0[ii]['avgProf']\n",
    "    col2p = (rMbin0[ii]['avgProfUpp'] - rMbin0[ii]['avgProf'])\n",
    "    col2m = (rMbin0[ii]['avgProf'] - rMbin0[ii]['avgProfLow'])\n",
    "    # redbcg Mbin1\n",
    "    col3 = rMbin1[ii]['avgProf']\n",
    "    col3p = (rMbin1[ii]['avgProfUpp'] - rMbin1[ii]['avgProf'])\n",
    "    col3m = (rMbin1[ii]['avgProf'] - rMbin1[ii]['avgProfLow'])\n",
    "    # redbcg Mbin2\n",
    "    col4 = rMbin2[ii]['avgProf']\n",
    "    col4p = (rMbin2[ii]['avgProfUpp'] - rMbin2[ii]['avgProf'])\n",
    "    col4m = (rMbin2[ii]['avgProf'] - rMbin2[ii]['avgProfLow'])\n",
    "    \n",
    "    # nonbcg Mbin0\n",
    "    col5 = nMbin0[ii]['avgProf']\n",
    "    col5p = (nMbin0[ii]['avgProfUpp'] - nMbin0[ii]['avgProf'])\n",
    "    col5m = (nMbin0[ii]['avgProf'] - nMbin0[ii]['avgProfLow'])\n",
    "    # nonbcg Mbin1\n",
    "    col6 = nMbin1[ii]['avgProf']\n",
    "    col6p = (nMbin1[ii]['avgProfUpp'] - nMbin1[ii]['avgProf'])\n",
    "    col6m = (nMbin1[ii]['avgProf'] - nMbin1[ii]['avgProfLow'])\n",
    "    # nonbcg Mbin2\n",
    "    col7 = nMbin2[ii]['avgProf']\n",
    "    col7p = (nMbin2[ii]['avgProfUpp'] - nMbin2[ii]['avgProf'])\n",
    "    col7m = (nMbin2[ii]['avgProf'] - nMbin2[ii]['avgProfLow'])\n",
    "    \n",
    "    #print(rr, col5, last, (col5 - lastM))\n",
    "    \n",
    "    if (ii == 0) or ((rr <= 5.0) and \n",
    "                     ((rr - lastR) >= 0.3) and \n",
    "                     (np.abs(col5 - lastM) > 0.03)) or ((rr <= 20.0) and \n",
    "                     ((rr - lastR) >= 1.3) and \n",
    "                     (np.abs(col5 - lastM) > 0.05)) or ((rr < 150.0) and \n",
    "                     ((rr - lastR) >= 3.5) and \n",
    "                     (np.abs(col5 - lastM) > 0.06)):\n",
    "        string1 = format1 % (rr, col2, col2p, col2m)\n",
    "        string2 = format2 %(col3, col3p, col3m)\n",
    "        string3 = format2 %(col4, col4p, col4m)\n",
    "        string4 = format2 %(col5, col5p, col5m)\n",
    "        string5 = format2 %(col6, col6p, col6m)\n",
    "        string6 = format3 %(col7, col7p, col7m)\n",
    "        print(string1 + string2 + string3 + string4 + string5 + string6)\n",
    "                     \n",
    "        lastM = col5\n",
    "        lastR = rr\n"
   ]
  },
  {
   "cell_type": "code",
   "execution_count": null,
   "metadata": {
    "collapsed": true
   },
   "outputs": [],
   "source": []
  }
 ],
 "metadata": {
  "hide_input": false,
  "kernelspec": {
   "display_name": "Python 2",
   "language": "python",
   "name": "python2"
  },
  "language_info": {
   "codemirror_mode": {
    "name": "ipython",
    "version": 2
   },
   "file_extension": ".py",
   "mimetype": "text/x-python",
   "name": "python",
   "nbconvert_exporter": "python",
   "pygments_lexer": "ipython2",
   "version": "2.7.12"
  },
  "toc": {
   "toc_cell": false,
   "toc_number_sections": true,
   "toc_threshold": 6,
   "toc_window_display": false
  }
 },
 "nbformat": 4,
 "nbformat_minor": 1
}
