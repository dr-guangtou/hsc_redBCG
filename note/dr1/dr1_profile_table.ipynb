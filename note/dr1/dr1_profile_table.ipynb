{
 "cells": [
  {
   "cell_type": "code",
   "execution_count": 1,
   "metadata": {
    "collapsed": true
   },
   "outputs": [],
   "source": [
    "% matplotlib inline\n",
    "from __future__ import (division, \n",
    "                        print_function)\n",
    "\n",
    "import os\n",
    "import sys\n",
    "import copy\n",
    "import fnmatch\n",
    "import warnings\n",
    "import collections\n",
    "\n",
    "import numpy as np\n",
    "import scipy\n",
    "try:\n",
    "    from scipy.stats import scoreatpercentile\n",
    "except:\n",
    "    scoreatpercentile = False\n",
    "from scipy.interpolate import interp1d\n",
    "import cPickle as pickle\n",
    "\n",
    "# Astropy\n",
    "from astropy.io import fits\n",
    "from astropy    import units as u\n",
    "from astropy.stats import sigma_clip\n",
    "from astropy.table import Table, Column\n",
    "from astropy.utils.console import ProgressBar"
   ]
  },
  {
   "cell_type": "markdown",
   "metadata": {},
   "source": [
    "# Read in the FITS tables for the median profiles"
   ]
  },
  {
   "cell_type": "code",
   "execution_count": 5,
   "metadata": {},
   "outputs": [
    {
     "name": "stdout",
     "output_type": "stream",
     "text": [
      "\u001b[31mprofiles/dr1_nonbcg_isedfit_mass_fsps1_sbpsum_imgsub_use_mbin0.fits\u001b[m\u001b[m*\r\n",
      "\u001b[31mprofiles/dr1_nonbcg_isedfit_mass_fsps1_sbpsum_imgsub_use_mbin1.fits\u001b[m\u001b[m*\r\n",
      "\u001b[31mprofiles/dr1_nonbcg_isedfit_mass_fsps1_sbpsum_imgsub_use_mbin2.fits\u001b[m\u001b[m*\r\n",
      "\u001b[31mprofiles/dr1_nonbcg_isedfit_mass_fsps1_sbpsum_imgsub_use_minnA.fits\u001b[m\u001b[m*\r\n",
      "\u001b[31mprofiles/dr1_nonbcg_isedfit_mass_fsps1_sbpsum_imgsub_use_minnB.fits\u001b[m\u001b[m*\r\n",
      "\u001b[31mprofiles/dr1_nonbcg_isedfit_mass_fsps1_sbpsum_imgsub_use_minnC.fits\u001b[m\u001b[m*\r\n",
      "\u001b[31mprofiles/dr1_nonbcg_isedfit_mass_fsps1_sbpsum_imgsub_use_mtotA.fits\u001b[m\u001b[m*\r\n",
      "\u001b[31mprofiles/dr1_nonbcg_isedfit_mass_fsps1_sbpsum_imgsub_use_mtotB.fits\u001b[m\u001b[m*\r\n",
      "\u001b[31mprofiles/dr1_nonbcg_isedfit_mass_fsps1_sbpsum_imgsub_use_mtotC.fits\u001b[m\u001b[m*\r\n",
      "\u001b[31mprofiles/dr1_nonbcg_isedfit_mass_fsps1_sbpsum_imgsub_use_zbin1.fits\u001b[m\u001b[m*\r\n",
      "\u001b[31mprofiles/dr1_nonbcg_isedfit_mass_fsps1_sbpsum_imgsub_use_zbin2.fits\u001b[m\u001b[m*\r\n",
      "\u001b[31mprofiles/dr1_redbcg_isedfit_mass_fsps1_sbpsum_imgsub_use_mbin0.fits\u001b[m\u001b[m*\r\n",
      "\u001b[31mprofiles/dr1_redbcg_isedfit_mass_fsps1_sbpsum_imgsub_use_mbin1.fits\u001b[m\u001b[m*\r\n",
      "\u001b[31mprofiles/dr1_redbcg_isedfit_mass_fsps1_sbpsum_imgsub_use_mbin2.fits\u001b[m\u001b[m*\r\n",
      "\u001b[31mprofiles/dr1_redbcg_isedfit_mass_fsps1_sbpsum_imgsub_use_mbin3.fits\u001b[m\u001b[m*\r\n",
      "\u001b[31mprofiles/dr1_redbcg_isedfit_mass_fsps1_sbpsum_imgsub_use_minnA.fits\u001b[m\u001b[m*\r\n",
      "\u001b[31mprofiles/dr1_redbcg_isedfit_mass_fsps1_sbpsum_imgsub_use_minnB.fits\u001b[m\u001b[m*\r\n",
      "\u001b[31mprofiles/dr1_redbcg_isedfit_mass_fsps1_sbpsum_imgsub_use_minnC.fits\u001b[m\u001b[m*\r\n",
      "\u001b[31mprofiles/dr1_redbcg_isedfit_mass_fsps1_sbpsum_imgsub_use_mtotA.fits\u001b[m\u001b[m*\r\n",
      "\u001b[31mprofiles/dr1_redbcg_isedfit_mass_fsps1_sbpsum_imgsub_use_mtotB.fits\u001b[m\u001b[m*\r\n",
      "\u001b[31mprofiles/dr1_redbcg_isedfit_mass_fsps1_sbpsum_imgsub_use_mtotC.fits\u001b[m\u001b[m*\r\n",
      "\u001b[31mprofiles/dr1_redbcg_isedfit_mass_fsps1_sbpsum_imgsub_use_zbin1.fits\u001b[m\u001b[m*\r\n",
      "\u001b[31mprofiles/dr1_redbcg_isedfit_mass_fsps1_sbpsum_imgsub_use_zbin2.fits\u001b[m\u001b[m*\r\n",
      "\u001b[31mprofiles/hscMassive_mbin0.fits\u001b[m\u001b[m*\r\n",
      "\u001b[31mprofiles/hscMassive_mbin1.fits\u001b[m\u001b[m*\r\n",
      "\u001b[31mprofiles/hscMassive_mbin2.fits\u001b[m\u001b[m*\r\n"
     ]
    }
   ],
   "source": [
    "ls profiles/*.fits"
   ]
  },
  {
   "cell_type": "code",
   "execution_count": 6,
   "metadata": {
    "collapsed": true
   },
   "outputs": [],
   "source": [
    "dirProf = 'profiles'\n",
    "\n",
    "rMbin0 = Table.read(os.path.join(dirProf, 'dr1_redbcg_isedfit_mass_fsps1_sbpsum_imgsub_use_mbin1.fits'))\n",
    "rMbin1 = Table.read(os.path.join(dirProf, 'dr1_redbcg_isedfit_mass_fsps1_sbpsum_imgsub_use_mbin2.fits'))\n",
    "rMbin2 = Table.read(os.path.join(dirProf, 'dr1_redbcg_isedfit_mass_fsps1_sbpsum_imgsub_use_mbin3.fits'))\n",
    "\n",
    "rM100C = Table.read(os.path.join(dirProf, 'dr1_redbcg_isedfit_mass_fsps1_sbpsum_imgsub_use_mtotC.fits'))\n",
    "rM10C = Table.read(os.path.join(dirProf, 'dr1_redbcg_isedfit_mass_fsps1_sbpsum_imgsub_use_minnC.fits'))\n",
    "\n",
    "nMbin0 = Table.read(os.path.join(dirProf, 'dr1_nonbcg_isedfit_mass_fsps1_sbpsum_imgsub_use_mbin0.fits'))\n",
    "nMbin1 = Table.read(os.path.join(dirProf, 'dr1_nonbcg_isedfit_mass_fsps1_sbpsum_imgsub_use_mbin1.fits'))\n",
    "nMbin2 = Table.read(os.path.join(dirProf, 'dr1_nonbcg_isedfit_mass_fsps1_sbpsum_imgsub_use_mbin2.fits'))\n",
    "\n",
    "nM100C = Table.read(os.path.join(dirProf, 'dr1_nonbcg_isedfit_mass_fsps1_sbpsum_imgsub_use_mtotC.fits'))\n",
    "nM10C = Table.read(os.path.join(dirProf, 'dr1_nonbcg_isedfit_mass_fsps1_sbpsum_imgsub_use_minnC.fits'))\n",
    "\n",
    "hMbin0 = Table.read(os.path.join(dirProf, 'hscMassive_mbin0.fits'))\n",
    "hMbin1 = Table.read(os.path.join(dirProf, 'hscMassive_mbin1.fits'))\n",
    "hMbin2 = Table.read(os.path.join(dirProf, 'hscMassive_mbin2.fits'))"
   ]
  },
  {
   "cell_type": "code",
   "execution_count": 7,
   "metadata": {
    "collapsed": true
   },
   "outputs": [],
   "source": [
    "rCol = rMbin0['rkpc'] ** 4.0"
   ]
  },
  {
   "cell_type": "code",
   "execution_count": 9,
   "metadata": {},
   "outputs": [
    {
     "data": {
      "text/plain": [
       "['rkpc',\n",
       " 'medProfLow',\n",
       " 'medProfUpp',\n",
       " 'medProf',\n",
       " 'avgProfLow',\n",
       " 'avgProfUpp',\n",
       " 'avgProf',\n",
       " 'stdProf']"
      ]
     },
     "execution_count": 9,
     "metadata": {},
     "output_type": "execute_result"
    }
   ],
   "source": [
    "hMbin0.colnames"
   ]
  },
  {
   "cell_type": "markdown",
   "metadata": {},
   "source": [
    "# Formatting the output string"
   ]
  },
  {
   "cell_type": "code",
   "execution_count": 10,
   "metadata": {
    "collapsed": true
   },
   "outputs": [],
   "source": [
    "format1 = \"%4.1f & $%5.2f\\substack{+%4.2f \\\\\\\\ -%4.2f}$ &\"\n",
    "format2 = \"$%5.2f\\substack{+%4.2f \\\\\\\\ -%4.2f}$ &\"\n",
    "format3 = \"$%5.2f\\substack{+%4.2f \\\\\\\\ -%4.2f}$ \\\\\\\\\""
   ]
  },
  {
   "cell_type": "code",
   "execution_count": 12,
   "metadata": {},
   "outputs": [
    {
     "name": "stdout",
     "output_type": "stream",
     "text": [
      " 0.0 & $ 9.23\\substack{+0.00 \\\\ -0.00}$ &$ 9.31\\substack{+0.00 \\\\ -0.01}$ &$ 9.32\\substack{+0.01 \\\\ -0.01}$ &$ 9.31\\substack{+0.02 \\\\ -0.02}$ &$ 9.34\\substack{+0.01 \\\\ -0.01}$ &$ 9.31\\substack{+0.02 \\\\ -0.02}$ &$ 9.34\\substack{+0.02 \\\\ -0.02}$ \\\\\n",
      " 0.6 & $ 9.20\\substack{+0.00 \\\\ -0.00}$ &$ 9.28\\substack{+0.00 \\\\ -0.01}$ &$ 9.29\\substack{+0.01 \\\\ -0.01}$ &$ 9.27\\substack{+0.02 \\\\ -0.02}$ &$ 9.31\\substack{+0.01 \\\\ -0.01}$ &$ 9.28\\substack{+0.02 \\\\ -0.02}$ &$ 9.31\\substack{+0.02 \\\\ -0.02}$ \\\\\n",
      " 1.0 & $ 9.16\\substack{+0.00 \\\\ -0.00}$ &$ 9.24\\substack{+0.00 \\\\ -0.00}$ &$ 9.26\\substack{+0.01 \\\\ -0.01}$ &$ 9.24\\substack{+0.02 \\\\ -0.02}$ &$ 9.27\\substack{+0.01 \\\\ -0.01}$ &$ 9.25\\substack{+0.02 \\\\ -0.02}$ &$ 9.27\\substack{+0.02 \\\\ -0.02}$ \\\\\n",
      " 1.4 & $ 9.12\\substack{+0.00 \\\\ -0.00}$ &$ 9.20\\substack{+0.00 \\\\ -0.00}$ &$ 9.23\\substack{+0.01 \\\\ -0.01}$ &$ 9.20\\substack{+0.02 \\\\ -0.02}$ &$ 9.23\\substack{+0.01 \\\\ -0.01}$ &$ 9.21\\substack{+0.02 \\\\ -0.01}$ &$ 9.23\\substack{+0.02 \\\\ -0.01}$ \\\\\n",
      " 1.7 & $ 9.06\\substack{+0.00 \\\\ -0.00}$ &$ 9.15\\substack{+0.00 \\\\ -0.00}$ &$ 9.19\\substack{+0.01 \\\\ -0.01}$ &$ 9.15\\substack{+0.02 \\\\ -0.02}$ &$ 9.19\\substack{+0.01 \\\\ -0.01}$ &$ 9.16\\substack{+0.01 \\\\ -0.01}$ &$ 9.18\\substack{+0.01 \\\\ -0.01}$ \\\\\n",
      " 2.0 & $ 9.00\\substack{+0.00 \\\\ -0.00}$ &$ 9.10\\substack{+0.00 \\\\ -0.00}$ &$ 9.15\\substack{+0.01 \\\\ -0.01}$ &$ 9.09\\substack{+0.01 \\\\ -0.02}$ &$ 9.13\\substack{+0.01 \\\\ -0.01}$ &$ 9.11\\substack{+0.01 \\\\ -0.01}$ &$ 9.12\\substack{+0.01 \\\\ -0.01}$ \\\\\n",
      " 2.4 & $ 8.93\\substack{+0.00 \\\\ -0.00}$ &$ 9.03\\substack{+0.00 \\\\ -0.00}$ &$ 9.09\\substack{+0.01 \\\\ -0.01}$ &$ 9.03\\substack{+0.02 \\\\ -0.02}$ &$ 9.07\\substack{+0.01 \\\\ -0.01}$ &$ 9.05\\substack{+0.01 \\\\ -0.01}$ &$ 9.05\\substack{+0.01 \\\\ -0.01}$ \\\\\n",
      " 2.7 & $ 8.87\\substack{+0.00 \\\\ -0.00}$ &$ 8.97\\substack{+0.00 \\\\ -0.00}$ &$ 9.04\\substack{+0.01 \\\\ -0.01}$ &$ 8.97\\substack{+0.01 \\\\ -0.01}$ &$ 9.01\\substack{+0.01 \\\\ -0.01}$ &$ 9.00\\substack{+0.01 \\\\ -0.01}$ &$ 8.99\\substack{+0.01 \\\\ -0.01}$ \\\\\n",
      " 3.0 & $ 8.80\\substack{+0.00 \\\\ -0.00}$ &$ 8.90\\substack{+0.00 \\\\ -0.00}$ &$ 8.98\\substack{+0.01 \\\\ -0.01}$ &$ 8.90\\substack{+0.01 \\\\ -0.01}$ &$ 8.95\\substack{+0.01 \\\\ -0.01}$ &$ 8.93\\substack{+0.01 \\\\ -0.01}$ &$ 8.92\\substack{+0.01 \\\\ -0.01}$ \\\\\n",
      " 3.4 & $ 8.72\\substack{+0.00 \\\\ -0.00}$ &$ 8.83\\substack{+0.00 \\\\ -0.00}$ &$ 8.92\\substack{+0.01 \\\\ -0.01}$ &$ 8.83\\substack{+0.01 \\\\ -0.01}$ &$ 8.88\\substack{+0.01 \\\\ -0.01}$ &$ 8.86\\substack{+0.01 \\\\ -0.01}$ &$ 8.85\\substack{+0.01 \\\\ -0.01}$ \\\\\n",
      " 3.7 & $ 8.66\\substack{+0.00 \\\\ -0.00}$ &$ 8.78\\substack{+0.00 \\\\ -0.00}$ &$ 8.87\\substack{+0.01 \\\\ -0.01}$ &$ 8.78\\substack{+0.01 \\\\ -0.01}$ &$ 8.83\\substack{+0.01 \\\\ -0.01}$ &$ 8.81\\substack{+0.01 \\\\ -0.01}$ &$ 8.79\\substack{+0.01 \\\\ -0.01}$ \\\\\n",
      " 4.1 & $ 8.60\\substack{+0.00 \\\\ -0.00}$ &$ 8.72\\substack{+0.00 \\\\ -0.00}$ &$ 8.82\\substack{+0.01 \\\\ -0.01}$ &$ 8.72\\substack{+0.01 \\\\ -0.01}$ &$ 8.77\\substack{+0.01 \\\\ -0.01}$ &$ 8.76\\substack{+0.01 \\\\ -0.01}$ &$ 8.73\\substack{+0.01 \\\\ -0.01}$ \\\\\n",
      " 4.4 & $ 8.54\\substack{+0.00 \\\\ -0.00}$ &$ 8.66\\substack{+0.00 \\\\ -0.00}$ &$ 8.77\\substack{+0.01 \\\\ -0.01}$ &$ 8.66\\substack{+0.01 \\\\ -0.01}$ &$ 8.72\\substack{+0.01 \\\\ -0.01}$ &$ 8.70\\substack{+0.01 \\\\ -0.01}$ &$ 8.67\\substack{+0.01 \\\\ -0.01}$ \\\\\n",
      " 4.8 & $ 8.48\\substack{+0.00 \\\\ -0.00}$ &$ 8.60\\substack{+0.00 \\\\ -0.00}$ &$ 8.71\\substack{+0.01 \\\\ -0.01}$ &$ 8.60\\substack{+0.01 \\\\ -0.01}$ &$ 8.66\\substack{+0.01 \\\\ -0.01}$ &$ 8.65\\substack{+0.01 \\\\ -0.01}$ &$ 8.61\\substack{+0.01 \\\\ -0.01}$ \\\\\n",
      " 6.2 & $ 8.26\\substack{+0.00 \\\\ -0.00}$ &$ 8.40\\substack{+0.00 \\\\ -0.00}$ &$ 8.53\\substack{+0.01 \\\\ -0.01}$ &$ 8.41\\substack{+0.01 \\\\ -0.01}$ &$ 8.46\\substack{+0.01 \\\\ -0.01}$ &$ 8.46\\substack{+0.02 \\\\ -0.02}$ &$ 8.40\\substack{+0.02 \\\\ -0.02}$ \\\\\n",
      " 7.6 & $ 8.09\\substack{+0.00 \\\\ -0.00}$ &$ 8.24\\substack{+0.00 \\\\ -0.00}$ &$ 8.39\\substack{+0.01 \\\\ -0.01}$ &$ 8.27\\substack{+0.01 \\\\ -0.01}$ &$ 8.31\\substack{+0.01 \\\\ -0.01}$ &$ 8.31\\substack{+0.02 \\\\ -0.02}$ &$ 8.23\\substack{+0.02 \\\\ -0.02}$ \\\\\n",
      " 9.0 & $ 7.95\\substack{+0.00 \\\\ -0.00}$ &$ 8.10\\substack{+0.00 \\\\ -0.00}$ &$ 8.27\\substack{+0.01 \\\\ -0.01}$ &$ 8.14\\substack{+0.02 \\\\ -0.02}$ &$ 8.18\\substack{+0.01 \\\\ -0.01}$ &$ 8.19\\substack{+0.02 \\\\ -0.02}$ &$ 8.09\\substack{+0.02 \\\\ -0.02}$ \\\\\n",
      "10.3 & $ 7.82\\substack{+0.00 \\\\ -0.00}$ &$ 7.99\\substack{+0.00 \\\\ -0.00}$ &$ 8.16\\substack{+0.01 \\\\ -0.01}$ &$ 8.03\\substack{+0.02 \\\\ -0.01}$ &$ 8.06\\substack{+0.01 \\\\ -0.01}$ &$ 8.09\\substack{+0.02 \\\\ -0.02}$ &$ 7.97\\substack{+0.02 \\\\ -0.02}$ \\\\\n",
      "11.7 & $ 7.70\\substack{+0.00 \\\\ -0.00}$ &$ 7.88\\substack{+0.00 \\\\ -0.00}$ &$ 8.06\\substack{+0.01 \\\\ -0.01}$ &$ 7.93\\substack{+0.02 \\\\ -0.02}$ &$ 7.96\\substack{+0.01 \\\\ -0.01}$ &$ 7.99\\substack{+0.02 \\\\ -0.02}$ &$ 7.85\\substack{+0.02 \\\\ -0.02}$ \\\\\n",
      "13.0 & $ 7.60\\substack{+0.00 \\\\ -0.00}$ &$ 7.78\\substack{+0.00 \\\\ -0.00}$ &$ 7.98\\substack{+0.01 \\\\ -0.01}$ &$ 7.85\\substack{+0.02 \\\\ -0.02}$ &$ 7.87\\substack{+0.01 \\\\ -0.01}$ &$ 7.90\\substack{+0.02 \\\\ -0.02}$ &$ 7.75\\substack{+0.02 \\\\ -0.02}$ \\\\\n",
      "14.5 & $ 7.50\\substack{+0.00 \\\\ -0.00}$ &$ 7.69\\substack{+0.00 \\\\ -0.00}$ &$ 7.90\\substack{+0.01 \\\\ -0.01}$ &$ 7.76\\substack{+0.02 \\\\ -0.02}$ &$ 7.78\\substack{+0.01 \\\\ -0.01}$ &$ 7.82\\substack{+0.02 \\\\ -0.02}$ &$ 7.65\\substack{+0.02 \\\\ -0.02}$ \\\\\n",
      "16.0 & $ 7.39\\substack{+0.00 \\\\ -0.00}$ &$ 7.60\\substack{+0.00 \\\\ -0.00}$ &$ 7.82\\substack{+0.01 \\\\ -0.01}$ &$ 7.68\\substack{+0.02 \\\\ -0.02}$ &$ 7.69\\substack{+0.01 \\\\ -0.01}$ &$ 7.74\\substack{+0.02 \\\\ -0.03}$ &$ 7.56\\substack{+0.02 \\\\ -0.03}$ \\\\\n",
      "17.3 & $ 7.31\\substack{+0.00 \\\\ -0.00}$ &$ 7.52\\substack{+0.00 \\\\ -0.00}$ &$ 7.76\\substack{+0.01 \\\\ -0.01}$ &$ 7.61\\substack{+0.02 \\\\ -0.02}$ &$ 7.62\\substack{+0.01 \\\\ -0.01}$ &$ 7.67\\substack{+0.03 \\\\ -0.03}$ &$ 7.48\\substack{+0.03 \\\\ -0.03}$ \\\\\n",
      "18.7 & $ 7.23\\substack{+0.00 \\\\ -0.00}$ &$ 7.45\\substack{+0.00 \\\\ -0.00}$ &$ 7.69\\substack{+0.01 \\\\ -0.01}$ &$ 7.55\\substack{+0.02 \\\\ -0.02}$ &$ 7.55\\substack{+0.01 \\\\ -0.01}$ &$ 7.61\\substack{+0.03 \\\\ -0.03}$ &$ 7.40\\substack{+0.03 \\\\ -0.03}$ \\\\\n",
      "22.6 & $ 7.02\\substack{+0.00 \\\\ -0.00}$ &$ 7.27\\substack{+0.00 \\\\ -0.00}$ &$ 7.54\\substack{+0.01 \\\\ -0.01}$ &$ 7.38\\substack{+0.02 \\\\ -0.02}$ &$ 7.37\\substack{+0.01 \\\\ -0.01}$ &$ 7.45\\substack{+0.03 \\\\ -0.03}$ &$ 7.21\\substack{+0.03 \\\\ -0.03}$ \\\\\n",
      "26.1 & $ 6.86\\substack{+0.00 \\\\ -0.00}$ &$ 7.12\\substack{+0.00 \\\\ -0.00}$ &$ 7.41\\substack{+0.01 \\\\ -0.01}$ &$ 7.25\\substack{+0.02 \\\\ -0.02}$ &$ 7.24\\substack{+0.01 \\\\ -0.01}$ &$ 7.32\\substack{+0.03 \\\\ -0.03}$ &$ 7.05\\substack{+0.03 \\\\ -0.03}$ \\\\\n",
      "30.0 & $ 6.70\\substack{+0.00 \\\\ -0.00}$ &$ 6.98\\substack{+0.00 \\\\ -0.00}$ &$ 7.29\\substack{+0.01 \\\\ -0.01}$ &$ 7.13\\substack{+0.03 \\\\ -0.02}$ &$ 7.10\\substack{+0.01 \\\\ -0.01}$ &$ 7.20\\substack{+0.03 \\\\ -0.04}$ &$ 6.90\\substack{+0.03 \\\\ -0.04}$ \\\\\n",
      "33.7 & $ 6.55\\substack{+0.00 \\\\ -0.00}$ &$ 6.85\\substack{+0.01 \\\\ -0.01}$ &$ 7.18\\substack{+0.01 \\\\ -0.01}$ &$ 7.01\\substack{+0.03 \\\\ -0.03}$ &$ 6.98\\substack{+0.01 \\\\ -0.01}$ &$ 7.09\\substack{+0.03 \\\\ -0.03}$ &$ 6.76\\substack{+0.03 \\\\ -0.03}$ \\\\\n",
      "37.8 & $ 6.41\\substack{+0.00 \\\\ -0.00}$ &$ 6.72\\substack{+0.01 \\\\ -0.01}$ &$ 7.07\\substack{+0.01 \\\\ -0.01}$ &$ 6.90\\substack{+0.03 \\\\ -0.03}$ &$ 6.85\\substack{+0.01 \\\\ -0.01}$ &$ 6.98\\substack{+0.04 \\\\ -0.04}$ &$ 6.63\\substack{+0.04 \\\\ -0.04}$ \\\\\n",
      "41.6 & $ 6.29\\substack{+0.01 \\\\ -0.01}$ &$ 6.61\\substack{+0.01 \\\\ -0.01}$ &$ 6.98\\substack{+0.01 \\\\ -0.01}$ &$ 6.81\\substack{+0.03 \\\\ -0.03}$ &$ 6.75\\substack{+0.01 \\\\ -0.01}$ &$ 6.89\\substack{+0.04 \\\\ -0.04}$ &$ 6.51\\substack{+0.04 \\\\ -0.04}$ \\\\\n",
      "45.7 & $ 6.17\\substack{+0.01 \\\\ -0.01}$ &$ 6.50\\substack{+0.01 \\\\ -0.01}$ &$ 6.88\\substack{+0.01 \\\\ -0.01}$ &$ 6.71\\substack{+0.03 \\\\ -0.03}$ &$ 6.64\\substack{+0.01 \\\\ -0.01}$ &$ 6.79\\substack{+0.04 \\\\ -0.04}$ &$ 6.39\\substack{+0.04 \\\\ -0.04}$ \\\\\n",
      "49.3 & $ 6.07\\substack{+0.01 \\\\ -0.01}$ &$ 6.41\\substack{+0.01 \\\\ -0.01}$ &$ 6.80\\substack{+0.01 \\\\ -0.02}$ &$ 6.62\\substack{+0.03 \\\\ -0.03}$ &$ 6.56\\substack{+0.01 \\\\ -0.01}$ &$ 6.70\\substack{+0.04 \\\\ -0.04}$ &$ 6.30\\substack{+0.04 \\\\ -0.04}$ \\\\\n",
      "53.1 & $ 5.98\\substack{+0.01 \\\\ -0.01}$ &$ 6.33\\substack{+0.01 \\\\ -0.01}$ &$ 6.71\\substack{+0.02 \\\\ -0.02}$ &$ 6.55\\substack{+0.03 \\\\ -0.03}$ &$ 6.46\\substack{+0.01 \\\\ -0.01}$ &$ 6.64\\substack{+0.04 \\\\ -0.04}$ &$ 6.21\\substack{+0.04 \\\\ -0.04}$ \\\\\n",
      "57.2 & $ 5.88\\substack{+0.01 \\\\ -0.01}$ &$ 6.24\\substack{+0.01 \\\\ -0.01}$ &$ 6.63\\substack{+0.02 \\\\ -0.02}$ &$ 6.47\\substack{+0.04 \\\\ -0.04}$ &$ 6.37\\substack{+0.01 \\\\ -0.01}$ &$ 6.56\\substack{+0.04 \\\\ -0.04}$ &$ 6.11\\substack{+0.04 \\\\ -0.04}$ \\\\\n",
      "61.5 & $ 5.79\\substack{+0.01 \\\\ -0.01}$ &$ 6.15\\substack{+0.01 \\\\ -0.01}$ &$ 6.55\\substack{+0.02 \\\\ -0.02}$ &$ 6.39\\substack{+0.04 \\\\ -0.04}$ &$ 6.29\\substack{+0.01 \\\\ -0.01}$ &$ 6.49\\substack{+0.04 \\\\ -0.04}$ &$ 6.03\\substack{+0.04 \\\\ -0.04}$ \\\\\n",
      "66.0 & $ 5.70\\substack{+0.01 \\\\ -0.01}$ &$ 6.05\\substack{+0.01 \\\\ -0.01}$ &$ 6.47\\substack{+0.02 \\\\ -0.02}$ &$ 6.32\\substack{+0.04 \\\\ -0.04}$ &$ 6.20\\substack{+0.01 \\\\ -0.01}$ &$ 6.37\\substack{+0.05 \\\\ -0.06}$ &$ 5.94\\substack{+0.05 \\\\ -0.06}$ \\\\\n",
      "69.8 & $ 5.64\\substack{+0.01 \\\\ -0.01}$ &$ 5.98\\substack{+0.01 \\\\ -0.01}$ &$ 6.40\\substack{+0.02 \\\\ -0.02}$ &$ 6.25\\substack{+0.04 \\\\ -0.04}$ &$ 6.12\\substack{+0.02 \\\\ -0.01}$ &$ 6.35\\substack{+0.04 \\\\ -0.05}$ &$ 5.87\\substack{+0.04 \\\\ -0.05}$ \\\\\n",
      "74.7 & $ 5.56\\substack{+0.01 \\\\ -0.01}$ &$ 5.89\\substack{+0.01 \\\\ -0.01}$ &$ 6.32\\substack{+0.02 \\\\ -0.02}$ &$ 6.18\\substack{+0.04 \\\\ -0.04}$ &$ 6.04\\substack{+0.02 \\\\ -0.02}$ &$ 6.28\\substack{+0.05 \\\\ -0.05}$ &$ 5.79\\substack{+0.05 \\\\ -0.05}$ \\\\\n",
      "79.9 & $ 5.49\\substack{+0.01 \\\\ -0.01}$ &$ 5.81\\substack{+0.01 \\\\ -0.01}$ &$ 6.24\\substack{+0.02 \\\\ -0.02}$ &$ 6.12\\substack{+0.04 \\\\ -0.04}$ &$ 5.96\\substack{+0.02 \\\\ -0.02}$ &$ 6.20\\substack{+0.05 \\\\ -0.06}$ &$ 5.72\\substack{+0.05 \\\\ -0.06}$ \\\\\n",
      "84.3 & $ 5.43\\substack{+0.01 \\\\ -0.01}$ &$ 5.74\\substack{+0.01 \\\\ -0.01}$ &$ 6.18\\substack{+0.02 \\\\ -0.02}$ &$ 6.05\\substack{+0.04 \\\\ -0.05}$ &$ 5.89\\substack{+0.02 \\\\ -0.02}$ &$ 6.16\\substack{+0.05 \\\\ -0.05}$ &$ 5.65\\substack{+0.05 \\\\ -0.05}$ \\\\\n",
      "88.8 & $ 5.38\\substack{+0.01 \\\\ -0.01}$ &$ 5.67\\substack{+0.01 \\\\ -0.01}$ &$ 6.11\\substack{+0.02 \\\\ -0.02}$ &$ 5.99\\substack{+0.05 \\\\ -0.06}$ &$ 5.81\\substack{+0.02 \\\\ -0.02}$ &$ 6.08\\substack{+0.05 \\\\ -0.06}$ &$ 5.58\\substack{+0.05 \\\\ -0.06}$ \\\\\n",
      "97.2 & $ 5.29\\substack{+0.01 \\\\ -0.01}$ &$ 5.56\\substack{+0.01 \\\\ -0.01}$ &$ 5.98\\substack{+0.02 \\\\ -0.02}$ &$ 5.92\\substack{+0.04 \\\\ -0.04}$ &$ 5.69\\substack{+0.02 \\\\ -0.02}$ &$ 5.99\\substack{+0.05 \\\\ -0.05}$ &$ 5.47\\substack{+0.05 \\\\ -0.05}$ \\\\\n",
      "103.6 & $ 5.21\\substack{+0.01 \\\\ -0.01}$ &$ 5.49\\substack{+0.01 \\\\ -0.01}$ &$ 5.89\\substack{+0.03 \\\\ -0.03}$ &$ 5.84\\substack{+0.05 \\\\ -0.05}$ &$ 5.62\\substack{+0.02 \\\\ -0.02}$ &$ 5.94\\substack{+0.05 \\\\ -0.05}$ &$ 5.39\\substack{+0.05 \\\\ -0.05}$ \\\\\n",
      "111.6 & $ 5.14\\substack{+0.01 \\\\ -0.01}$ &$ 5.40\\substack{+0.01 \\\\ -0.01}$ &$ 5.79\\substack{+0.03 \\\\ -0.03}$ &$ 5.78\\substack{+0.05 \\\\ -0.05}$ &$ 5.54\\substack{+0.02 \\\\ -0.02}$ &$ 5.87\\substack{+0.05 \\\\ -0.05}$ &$ 5.32\\substack{+0.05 \\\\ -0.05}$ \\\\\n",
      "117.2 & $ 5.10\\substack{+0.01 \\\\ -0.01}$ &$ 5.36\\substack{+0.01 \\\\ -0.01}$ &$ 5.72\\substack{+0.03 \\\\ -0.03}$ &$ 5.72\\substack{+0.05 \\\\ -0.05}$ &$ 5.47\\substack{+0.02 \\\\ -0.02}$ &$ 5.82\\substack{+0.05 \\\\ -0.05}$ &$ 5.29\\substack{+0.05 \\\\ -0.05}$ \\\\\n",
      "129.0 & $ 5.00\\substack{+0.01 \\\\ -0.01}$ &$ 5.25\\substack{+0.02 \\\\ -0.02}$ &$ 5.61\\substack{+0.03 \\\\ -0.03}$ &$ 5.64\\substack{+0.05 \\\\ -0.05}$ &$ 5.36\\substack{+0.02 \\\\ -0.02}$ &$ 5.74\\substack{+0.05 \\\\ -0.05}$ &$ 5.21\\substack{+0.05 \\\\ -0.05}$ \\\\\n",
      "141.7 & $ 4.89\\substack{+0.02 \\\\ -0.02}$ &$ 5.13\\substack{+0.02 \\\\ -0.02}$ &$ 5.49\\substack{+0.03 \\\\ -0.03}$ &$ 5.58\\substack{+0.05 \\\\ -0.05}$ &$ 5.23\\substack{+0.03 \\\\ -0.03}$ &$ 5.66\\substack{+0.05 \\\\ -0.05}$ &$ 5.09\\substack{+0.05 \\\\ -0.05}$ \\\\\n",
      "146.7 & $ 4.85\\substack{+0.02 \\\\ -0.02}$ &$ 5.10\\substack{+0.02 \\\\ -0.02}$ &$ 5.46\\substack{+0.03 \\\\ -0.03}$ &$ 5.51\\substack{+0.06 \\\\ -0.06}$ &$ 5.19\\substack{+0.03 \\\\ -0.03}$ &$ 5.61\\substack{+0.05 \\\\ -0.05}$ &$ 5.03\\substack{+0.05 \\\\ -0.05}$ \\\\\n"
     ]
    }
   ],
   "source": [
    "lastM = 0.0\n",
    "lastR = 0.0\n",
    "\n",
    "for ii, rr in enumerate(rCol):\n",
    "    # redbcg Mbin0\n",
    "    col2 = hMbin0[ii]['avgProf']\n",
    "    col2p = (hMbin0[ii]['avgProfUpp'] - hMbin0[ii]['avgProf'])\n",
    "    col2m = (hMbin0[ii]['avgProf'] - hMbin0[ii]['avgProfLow'])\n",
    "    # redbcg Mbin1\n",
    "    col3 = hMbin1[ii]['avgProf']\n",
    "    col3p = (hMbin1[ii]['avgProfUpp'] - hMbin1[ii]['avgProf'])\n",
    "    col3m = (hMbin1[ii]['avgProf'] - hMbin1[ii]['avgProfLow'])\n",
    "    # redbcg Mbin2\n",
    "    col4 = hMbin2[ii]['avgProf']\n",
    "    col4p = (hMbin2[ii]['avgProfUpp'] - hMbin2[ii]['avgProf'])\n",
    "    col4m = (hMbin2[ii]['avgProf'] - hMbin2[ii]['avgProfLow'])\n",
    "    \n",
    "    # redbcgM100 matched \n",
    "    col5 = rM100C[ii]['avgProf']\n",
    "    col5p = (rM100C[ii]['avgProfUpp'] - rM100C[ii]['avgProf'])\n",
    "    col5m = (rM100C[ii]['avgProf'] - rM100C[ii]['avgProfLow'])\n",
    "    # nonbcgM100 matched \n",
    "    col6 = nM100C[ii]['avgProf']\n",
    "    col6p = (nM100C[ii]['avgProfUpp'] - nM100C[ii]['avgProf'])\n",
    "    col6m = (nM100C[ii]['avgProf'] - nM100C[ii]['avgProfLow'])\n",
    "    \n",
    "    # redbcgM10 matched\n",
    "    col7 = rM10C[ii]['avgProf']\n",
    "    col7p = (rM10C[ii]['avgProfUpp'] - rM10C[ii]['avgProf'])\n",
    "    col7m = (rM10C[ii]['avgProf'] - rM10C[ii]['avgProfLow'])\n",
    "    # redbcgM10 matched\n",
    "    col8 = nM10C[ii]['avgProf']\n",
    "    col8p = (nM10C[ii]['avgProfUpp'] - nM10C[ii]['avgProf'])\n",
    "    col8m = (nM10C[ii]['avgProf'] - nM10C[ii]['avgProfLow'])\n",
    "    \n",
    "    if (ii == 0) or ((rr <= 5.0) and \n",
    "                     ((rr - lastR) >= 0.3) and \n",
    "                     (np.abs(col5 - lastM) > 0.03)) or ((rr <= 20.0) and \n",
    "                     ((rr - lastR) >= 1.3) and \n",
    "                     (np.abs(col5 - lastM) > 0.05)) or ((rr < 150.0) and \n",
    "                     ((rr - lastR) >= 3.5) and \n",
    "                     (np.abs(col5 - lastM) > 0.06)):\n",
    "        string1 = format1 % (rr, col2, col2p, col2m)\n",
    "        string2 = format2 %(col3, col3p, col3m)\n",
    "        string3 = format2 %(col4, col4p, col4m)\n",
    "        string4 = format2 %(col5, col5p, col5m)\n",
    "        string5 = format2 %(col6, col6p, col6m)\n",
    "        string6 = format2 %(col7, col7p, col7m)\n",
    "        string7 = format3 %(col8, col7p, col7m)\n",
    "        print(string1 + string2 + string3 + string4 + string5 + string6 + string7)\n",
    "                     \n",
    "        lastM = col5\n",
    "        lastR = rr\n"
   ]
  },
  {
   "cell_type": "code",
   "execution_count": null,
   "metadata": {
    "collapsed": true
   },
   "outputs": [],
   "source": []
  }
 ],
 "metadata": {
  "hide_input": false,
  "kernelspec": {
   "display_name": "Python 2",
   "language": "python",
   "name": "python2"
  },
  "language_info": {
   "codemirror_mode": {
    "name": "ipython",
    "version": 2
   },
   "file_extension": ".py",
   "mimetype": "text/x-python",
   "name": "python",
   "nbconvert_exporter": "python",
   "pygments_lexer": "ipython2",
   "version": "2.7.13"
  },
  "nav_menu": {},
  "toc": {
   "navigate_menu": true,
   "number_sections": true,
   "sideBar": true,
   "threshold": 6,
   "toc_cell": false,
   "toc_section_display": "block",
   "toc_window_display": false
  }
 },
 "nbformat": 4,
 "nbformat_minor": 1
}
