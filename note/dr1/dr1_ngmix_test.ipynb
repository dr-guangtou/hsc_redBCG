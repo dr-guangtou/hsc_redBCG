{
 "cells": [
  {
   "cell_type": "code",
   "execution_count": 1,
   "metadata": {
    "collapsed": true
   },
   "outputs": [],
   "source": [
    "% matplotlib inline\n",
    "from __future__ import (division, \n",
    "                        print_function)\n",
    "\n",
    "import os\n",
    "import sys\n",
    "import copy\n",
    "import fnmatch\n",
    "import warnings\n",
    "import collections\n",
    "\n",
    "import numpy as np\n",
    "import scipy\n",
    "\n",
    "# Matplotlib related\n",
    "import matplotlib.pyplot as plt\n",
    "import matplotlib.patches as mpatches\n",
    "from matplotlib.patches import Ellipse\n",
    "from matplotlib.ticker import NullFormatter, MaxNLocator, FormatStrFormatter\n",
    "from matplotlib.collections import PatchCollection\n",
    "tickFormat = FormatStrFormatter('$\\mathbf{%g}$') \n",
    "\n",
    "# ngmix related\n",
    "import ngmix\n",
    "from ngmix.observation import Observation, ObsList, MultiBandObsList\n",
    "from ngmix.fitting import LMSimple"
   ]
  },
  {
   "cell_type": "code",
   "execution_count": 2,
   "metadata": {
    "collapsed": true
   },
   "outputs": [],
   "source": [
    "eps = 0.01 \n",
    "np.random.seed(869037)"
   ]
  },
  {
   "cell_type": "code",
   "execution_count": 3,
   "metadata": {
    "collapsed": true
   },
   "outputs": [],
   "source": [
    "# make a simlated gaussian mixture, convolve it with a PSF and\n",
    "# render a simulated image\n",
    "#\n",
    "\n",
    "# The code is designed to work on multiple images simulaneously, we always\n",
    "# fit in \"sky coordinates\".  We do this by making a jacobian to represent\n",
    "# the transformation, and make sure the center is at our best guess of the\n",
    "# object location.  In this case we make a unit jacobian.  for non-unit,\n",
    "# see the ngmix.Jacobian class. \n",
    "\n",
    "gal_jacob = ngmix.UnitJacobian(row=16.0, col=16.0)\n",
    "psf_jacob = ngmix.UnitJacobian(row=12.0, col=12.0)"
   ]
  },
  {
   "cell_type": "code",
   "execution_count": 8,
   "metadata": {
    "collapsed": false
   },
   "outputs": [],
   "source": [
    "# parameters for the gaussian mixture\n",
    "#\n",
    "# pars for a simple gmix correspond to\n",
    "#     [cen1, cen2, g1, g2, T, flux]\n",
    "#\n",
    "# note T=ixx+iyy, and the center corresponds to an offset relative to the\n",
    "# jacobian center.  Use cen1,cen2=0,0 for no offset\n",
    "\n",
    "# exponential disk approximated by gaussians\n",
    "pars = [0.0, 0.0, 0.2, -0.1, 16.0, 100.0]\n",
    "\n",
    "gmix0 = ngmix.GMixModel(pars, \"dev\")"
   ]
  },
  {
   "cell_type": "code",
   "execution_count": 9,
   "metadata": {
    "collapsed": true
   },
   "outputs": [],
   "source": [
    "# PSF is a single gaussian\n",
    "psf_pars = [0.0, 0.0, -0.03, 0.02, 4.0, 1.0]\n",
    "psf_gmix = ngmix.GMixModel(psf_pars, \"gauss\")"
   ]
  },
  {
   "cell_type": "code",
   "execution_count": 10,
   "metadata": {
    "collapsed": true
   },
   "outputs": [],
   "source": [
    "# convolution with the PSF\n",
    "gmix = gmix0.convolve(psf_gmix)"
   ]
  },
  {
   "cell_type": "code",
   "execution_count": 11,
   "metadata": {
    "collapsed": true
   },
   "outputs": [],
   "source": [
    "# render a simulated image, integrating the model over the pixels\n",
    "# using 10-point Gauss-Legendre integration\n",
    "\n",
    "dims = [32, 32]\n",
    "image0 = gmix.make_image(dims, npoints=10, jacobian=gal_jacob)"
   ]
  },
  {
   "cell_type": "code",
   "execution_count": 12,
   "metadata": {
    "collapsed": true
   },
   "outputs": [],
   "source": [
    "psf_dims = [24,24]\n",
    "psf_im = psf_gmix.make_image(psf_dims, npoints=10, jacobian=psf_jacob)"
   ]
  },
  {
   "cell_type": "code",
   "execution_count": 13,
   "metadata": {
    "collapsed": true
   },
   "outputs": [],
   "source": [
    "# add some noise to the galaxy image\n",
    "\n",
    "sigma = 0.01\n",
    "noise = np.random.normal(scale=sigma, size=image0.shape)\n",
    "image = image0 + noise"
   ]
  },
  {
   "cell_type": "code",
   "execution_count": 14,
   "metadata": {
    "collapsed": false
   },
   "outputs": [
    {
     "data": {
      "text/plain": [
       "<matplotlib.image.AxesImage at 0x10dbfe810>"
      ]
     },
     "execution_count": 14,
     "metadata": {},
     "output_type": "execute_result"
    },
    {
     "data": {
      "image/png": "[encoded data removed]",
      "text/plain": [
       "<matplotlib.figure.Figure at 0x10daf7ed0>"
      ]
     },
     "metadata": {},
     "output_type": "display_data"
    }
   ],
   "source": [
    "plt.imshow(image)"
   ]
  },
  {
   "cell_type": "code",
   "execution_count": 15,
   "metadata": {
    "collapsed": true
   },
   "outputs": [],
   "source": [
    "# fit the data using a maximum likelihood fitter\n",
    "# we use the LM method, Levenberg-Marquardt\n",
    "#\n",
    "\n",
    "# make an observation for the psf image\n",
    "psf_obs=Observation(psf_im, jacobian=psf_jacob)\n",
    "\n",
    "# Simple means one of the 6 parameter models\n",
    "pfitter=LMSimple(psf_obs, 'gauss')"
   ]
  },
  {
   "cell_type": "code",
   "execution_count": 18,
   "metadata": {
    "collapsed": false
   },
   "outputs": [],
   "source": [
    "# for simplicity, guess pars before pixelization\n",
    "guess = np.array(psf_pars)\n",
    "guess[0] += np.random.uniform(low=-eps, high=eps)\n",
    "guess[1] += np.random.uniform(low=-eps, high=eps)\n",
    "guess[2] += np.random.uniform(low=-eps, high=eps)\n",
    "guess[3] += np.random.uniform(low=-eps, high=eps)\n",
    "guess[4] *= (1.0 + np.random.uniform(low=-eps, high=eps))\n",
    "guess[5] *= (1.0 + np.random.uniform(low=-eps, high=eps))"
   ]
  },
  {
   "cell_type": "code",
   "execution_count": 20,
   "metadata": {
    "collapsed": true
   },
   "outputs": [],
   "source": [
    "pfitter.go(guess)\n",
    "\n",
    "psf_gmix_fit=pfitter.get_gmix()\n",
    "\n",
    "# set the gmix; needed for galaxy fitting later\n",
    "psf_obs.set_gmix(psf_gmix_fit)"
   ]
  },
  {
   "cell_type": "code",
   "execution_count": 21,
   "metadata": {
    "collapsed": true
   },
   "outputs": [],
   "source": [
    "# fit the galaxy.\n",
    "# Set the weight image for the fit; can be a complex weight\n",
    "# map in principle\n",
    "\n",
    "weight = np.zeros(image.shape) + (1 / sigma**2)"
   ]
  },
  {
   "cell_type": "code",
   "execution_count": 22,
   "metadata": {
    "collapsed": true
   },
   "outputs": [],
   "source": [
    "# When constructing the Observation we include a weight map and a psf\n",
    "# observation\n",
    "\n",
    "obs = Observation(image, weight=weight, jacobian=gal_jacob, psf=psf_obs)\n",
    "\n",
    "fitter=LMSimple(obs, 'exp')"
   ]
  },
  {
   "cell_type": "code",
   "execution_count": 24,
   "metadata": {
    "collapsed": false
   },
   "outputs": [],
   "source": [
    "guess = np.array(pars)\n",
    "guess[0] += np.random.uniform(low=-eps, high=eps)\n",
    "guess[1] += np.random.uniform(low=-eps, high=eps)\n",
    "guess[2] += np.random.uniform(low=-eps, high=eps)\n",
    "guess[3] += np.random.uniform(low=-eps, high=eps)\n",
    "guess[4] *= (1.0 + np.random.uniform(low=-eps, high=eps))\n",
    "guess[5] *= (1.0 + np.random.uniform(low=-eps, high=eps))"
   ]
  },
  {
   "cell_type": "code",
   "execution_count": 25,
   "metadata": {
    "collapsed": false
   },
   "outputs": [
    {
     "name": "stdout",
     "output_type": "stream",
     "text": [
      "truth:        0         0       0.2      -0.1        16       100 \n",
      "meas:  0.000305   0.00357     0.158   -0.0764      4.45      85.4 \n",
      "err:    0.00694   0.00761   0.00692   0.00677    0.0663      0.36 \n"
     ]
    }
   ],
   "source": [
    "fitter.go(guess)\n",
    "\n",
    "res=fitter.get_result()\n",
    "\n",
    "ngmix.print_pars(pars, front=\"truth:\")\n",
    "ngmix.print_pars(res['pars'],front=\"meas: \")\n",
    "ngmix.print_pars(res['pars_err'],front=\"err:  \")"
   ]
  },
  {
   "cell_type": "code",
   "execution_count": null,
   "metadata": {
    "collapsed": true
   },
   "outputs": [],
   "source": []
  }
 ],
 "metadata": {
  "hide_input": false,
  "kernelspec": {
   "display_name": "Python 2",
   "language": "python",
   "name": "python2"
  },
  "language_info": {
   "codemirror_mode": {
    "name": "ipython",
    "version": 2
   },
   "file_extension": ".py",
   "mimetype": "text/x-python",
   "name": "python",
   "nbconvert_exporter": "python",
   "pygments_lexer": "ipython2",
   "version": "2.7.11"
  },
  "toc": {
   "toc_cell": false,
   "toc_number_sections": true,
   "toc_threshold": 6,
   "toc_window_display": false
  },
  "widgets": {
   "state": {},
   "version": "1.1.2"
  }
 },
 "nbformat": 4,
 "nbformat_minor": 0
}
