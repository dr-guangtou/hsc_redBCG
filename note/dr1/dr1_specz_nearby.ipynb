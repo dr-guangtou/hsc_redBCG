{
 "cells": [
  {
   "cell_type": "code",
   "execution_count": 1,
   "metadata": {
    "collapsed": false
   },
   "outputs": [
    {
     "name": "stdout",
     "output_type": "stream",
     "text": [
      "Populating the interactive namespace from numpy and matplotlib\n"
     ]
    }
   ],
   "source": [
    "%pylab inline\n",
    "from __future__ import (division, print_function)\n",
    "\n",
    "import os\n",
    "import sys\n",
    "import copy\n",
    "import fnmatch\n",
    "import warnings\n",
    "\n",
    "# Numpy & Scipy\n",
    "import scipy\n",
    "from scipy import misc \n",
    "import numpy as numpy \n",
    "# Astropy related\n",
    "from astropy.io import fits \n",
    "from astropy import wcs\n",
    "from astropy import units as u\n",
    "from astropy.table import Table, Column, vstack\n",
    "from astropy.stats import sigma_clip\n",
    "from astropy.nddata import Cutout2D\n",
    "from astropy.utils.console import ProgressBar\n",
    "from astropy import coordinates as coords\n",
    "\n",
    "# cPickle for saveing data\n",
    "import cPickle as pickle \n",
    "# Scipy\n",
    "import scipy.ndimage as ndimage\n",
    "\n",
    "# Matplotlib \n",
    "import matplotlib.pyplot as plt\n",
    "from matplotlib.patches import Ellipse\n",
    "plt.ioff()\n",
    "from astroML.plotting import hist\n",
    "\n",
    "# ColorMap\n",
    "from palettable.colorbrewer.sequential import PuBu_5, OrRd_6\n",
    "cmap1 = PuBu_5.mpl_colormap\n",
    "cmap2 = OrRd_6.mpl_colormap\n",
    "# Cubehelix color scheme from https://github.com/jradavenport/cubehelix\n",
    "import cubehelix  \n",
    "cmap3 = cubehelix.cmap(start=0.5, rot=-0.8, gamma=1.0, \n",
    "                       minSat=1.2, maxSat=1.2, \n",
    "                       minLight=0.0, maxLight=1.0)\n",
    "\n",
    "# Matplotlib default settings\n",
    "rcdef = plt.rcParams.copy()\n",
    "pylab.rcParams['figure.figsize'] = 12, 10\n",
    "pylab.rcParams['xtick.major.size'] = 8.0\n",
    "pylab.rcParams['xtick.major.width'] = 1.5\n",
    "pylab.rcParams['xtick.minor.size'] = 4.0\n",
    "pylab.rcParams['xtick.minor.width'] = 1.5\n",
    "pylab.rcParams['ytick.major.size'] = 8.0\n",
    "pylab.rcParams['ytick.major.width'] = 1.5\n",
    "pylab.rcParams['ytick.minor.size'] = 4.0\n",
    "pylab.rcParams['ytick.minor.width'] = 1.5\n",
    "mpl.rcParams['legend.numpoints'] = 1\n",
    "rc('axes', linewidth=2)\n",
    "\n",
    "# Define the region of interests: \n",
    "from shapely.geometry import Polygon, Point\n",
    "from descartes import PolygonPatch\n",
    "\n",
    "import emcee\n",
    "import corner"
   ]
  },
  {
   "cell_type": "markdown",
   "metadata": {},
   "source": [
    "# Select Very Nearby Galaxies in HSC DR15b \n",
    "\n",
    "## Using the external spec-z catalog"
   ]
  },
  {
   "cell_type": "code",
   "execution_count": 2,
   "metadata": {
    "collapsed": false
   },
   "outputs": [
    {
     "name": "stdout",
     "output_type": "stream",
     "text": [
      "4037457\n"
     ]
    }
   ],
   "source": [
    "specz = Table.read('dr15b_specz.fits', format='fits')\n",
    "print(len(specz))"
   ]
  },
  {
   "cell_type": "code",
   "execution_count": 3,
   "metadata": {
    "collapsed": false
   },
   "outputs": [
    {
     "name": "stdout",
     "output_type": "stream",
     "text": [
      "['id', 'id_isnull', 'name', 'name_isnull', 'ra2000', 'ra2000_isnull', 'decl2000', 'decl2000_isnull', 'redshift', 'redshift_isnull', 'redshift_err', 'redshift_err_isnull', 'original_flag', 'original_flag_isnull', 'flag_homogeneous', 'flag_homogeneous_isnull', 'mag_i', 'mag_i_isnull', 'flag_sdss_dr12', 'flag_sdss_dr12_isnull', 'flag_deep2_dr4', 'flag_deep2_dr4_isnull', 'flag_primus_dr1', 'flag_primus_dr1_isnull', 'flag_vipers_pdr1', 'flag_vipers_pdr1_isnull', 'flag_vvds', 'flag_vvds_isnull', 'flag_gama_dr2', 'flag_gama_dr2_isnull', 'flag_wigglez_dr1', 'flag_wigglez_dr1_isnull', 'flag_zcosmos_dr3', 'flag_zcosmos_dr3_isnull', 'flag_udsz_mar2014', 'flag_udsz_mar2014_isnull', 'flag_3dhst_v4_1_5', 'flag_3dhst_v4_1_5_isnull', 'flag_fmos_cosmos_v1_0', 'flag_fmos_cosmos_v1_0_isnull']\n"
     ]
    }
   ],
   "source": [
    "print(specz.colnames)"
   ]
  },
  {
   "cell_type": "code",
   "execution_count": 4,
   "metadata": {
    "collapsed": false
   },
   "outputs": [
    {
     "name": "stdout",
     "output_type": "stream",
     "text": [
      "117741\n"
     ]
    }
   ],
   "source": [
    "near = specz[(specz['redshift'] >= 0.0005) & \n",
    "             (specz['redshift'] <= 0.040)]\n",
    "print(len(near))"
   ]
  },
  {
   "cell_type": "code",
   "execution_count": 10,
   "metadata": {
    "collapsed": false
   },
   "outputs": [
    {
     "name": "stdout",
     "output_type": "stream",
     "text": [
      "114099\n",
      "3642\n"
     ]
    }
   ],
   "source": [
    "objid = []\n",
    "hscid = []\n",
    "imag = []\n",
    "redshift = []\n",
    "\n",
    "other = []\n",
    "red2 = []\n",
    "hsc2 = []\n",
    "mag2 = []\n",
    "ra = []\n",
    "dec = []\n",
    "\n",
    "for gal in near: \n",
    "    name = gal['name']\n",
    "    if len(name.split(',')) == 1: \n",
    "        if 'SDSS' in name: \n",
    "            objid.append(int(name.split('-')[2]))\n",
    "            hscid.append(gal['id'])\n",
    "            imag.append(gal['mag_i'])\n",
    "            redshift.append(gal['redshift'])\n",
    "        else: \n",
    "            other.append(name)\n",
    "            hsc2.append(gal['id'])\n",
    "            red2.append(gal['redshift'])\n",
    "            mag2.append(gal['mag_i'])\n",
    "            ra.append(gal['ra2000'])\n",
    "            dec.append(gal['decl2000'])\n",
    "    else:\n",
    "        sdss = False\n",
    "        for ii in range(len(name.split(','))):\n",
    "            temp = name.split(',')[ii]\n",
    "            if 'SDSS' in temp:\n",
    "                objid.append(int(temp.split('-')[2]))\n",
    "                hscid.append(gal['id'])\n",
    "                imag.append(gal['mag_i'])\n",
    "                redshift.append(gal['redshift'])\n",
    "                sdss = True\n",
    "        if sdss is False: \n",
    "            other.append(name)\n",
    "            hsc2.append(gal['id'])\n",
    "            red2.append(gal['redshift'])\n",
    "            mag2.append(gal['mag_i'])\n",
    "            ra.append(gal['ra2000'])\n",
    "            dec.append(gal['decl2000']) \n",
    "            \n",
    "print(len(objid))\n",
    "\n",
    "print(len(other))"
   ]
  },
  {
   "cell_type": "code",
   "execution_count": 8,
   "metadata": {
    "collapsed": false
   },
   "outputs": [],
   "source": [
    "sdssNear = Table([hscid, objid, imag, redshift], \n",
    "                 names=(['hscid', 'objid', 'hsc_imag', 'redshift']), \n",
    "                 meta={'name': 'sdss nearby'})\n",
    "#sdssNear.write('dr15b_sdss_near.csv', format='csv')\n",
    "sdssNear.write('dr15b_sdss_near.fits', format='fits', overwrite=True)"
   ]
  },
  {
   "cell_type": "code",
   "execution_count": 11,
   "metadata": {
    "collapsed": true
   },
   "outputs": [],
   "source": [
    "otherNear = Table([hsc2, red2, ra, dec, mag2, other], \n",
    "                  names=(['hscid', 'redshift', 'ra', 'dec', 'mag_i', 'name']),\n",
    "                  meta={'name': 'other nearby'})\n",
    "otherNear.write('dr15b_other_near.fits', format='fits', overwrite=True)"
   ]
  },
  {
   "cell_type": "code",
   "execution_count": 73,
   "metadata": {
    "collapsed": false
   },
   "outputs": [
    {
     "data": {
      "text/plain": [
       "array([10176, 10177, 10178, 10179, 10180, 10181, 10182, 10183, 10184,\n",
       "       10185, 10186, 10187, 10188], dtype=int32)"
      ]
     },
     "execution_count": 73,
     "metadata": {},
     "output_type": "execute_result"
    }
   ],
   "source": [
    "np.linspace(10176, 10188, 13).astype(np.int32)"
   ]
  },
  {
   "cell_type": "code",
   "execution_count": null,
   "metadata": {
    "collapsed": true
   },
   "outputs": [],
   "source": []
  }
 ],
 "metadata": {
  "kernelspec": {
   "display_name": "Python 2",
   "language": "python",
   "name": "python2"
  },
  "language_info": {
   "codemirror_mode": {
    "name": "ipython",
    "version": 2
   },
   "file_extension": ".py",
   "mimetype": "text/x-python",
   "name": "python",
   "nbconvert_exporter": "python",
   "pygments_lexer": "ipython2",
   "version": "2.7.11"
  }
 },
 "nbformat": 4,
 "nbformat_minor": 0
}
