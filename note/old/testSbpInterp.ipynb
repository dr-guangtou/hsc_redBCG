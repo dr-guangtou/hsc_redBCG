{
 "cells": [
  {
   "cell_type": "code",
   "execution_count": 1,
   "metadata": {
    "collapsed": false
   },
   "outputs": [
    {
     "name": "stdout",
     "output_type": "stream",
     "text": [
      "Populating the interactive namespace from numpy and matplotlib\n"
     ]
    }
   ],
   "source": [
    "%pylab inline\n",
    "\n",
    "from __future__ import (division, print_function)\n",
    "\n",
    "import os\n",
    "import sys\n",
    "import copy\n",
    "import fnmatch\n",
    "import warnings\n",
    "import collections\n",
    "\n",
    "import numpy as np\n",
    "import scipy\n",
    "try:\n",
    "    from scipy.stats import scoreatpercentile\n",
    "except:\n",
    "    scoreatpercentile = False\n",
    "from scipy.interpolate import interp1d\n",
    "import cPickle as pickle\n",
    "\n",
    "# Astropy\n",
    "from astropy.io import fits\n",
    "from astropy    import units as u\n",
    "from astropy.stats import sigma_clip\n",
    "from astropy.table import Table, Column\n",
    "from astropy.utils.console import ProgressBar\n",
    "\n",
    "# AstroML\n",
    "from astroML.plotting import hist\n",
    "\n",
    "# Matplotlib related\n",
    "import matplotlib.pyplot as plt\n",
    "from matplotlib.patches import Ellipse\n",
    "from matplotlib.ticker import NullFormatter\n",
    "from matplotlib.ticker import MaxNLocator\n",
    "# Matplotlib default settings\n",
    "rcdef = plt.rcParams.copy()\n",
    "pylab.rcParams['figure.figsize'] = 12, 10\n",
    "pylab.rcParams['xtick.major.size'] = 8.0\n",
    "pylab.rcParams['xtick.major.width'] = 2.5\n",
    "pylab.rcParams['xtick.minor.size'] = 4.0\n",
    "pylab.rcParams['xtick.minor.width'] = 2.5\n",
    "pylab.rcParams['ytick.major.size'] = 8.0\n",
    "pylab.rcParams['ytick.major.width'] = 2.5\n",
    "pylab.rcParams['ytick.minor.size'] = 4.0\n",
    "pylab.rcParams['ytick.minor.width'] = 2.5\n",
    "\n",
    "# Personal\n",
    "import hscUtils as hUtil\n",
    "import galSBP"
   ]
  },
  {
   "cell_type": "code",
   "execution_count": 2,
   "metadata": {
    "collapsed": true
   },
   "outputs": [],
   "source": [
    "def readProfile(ellFile):\n",
    "    \"\"\" Load the pickle format 1-D profile. \"\"\"\n",
    "    if os.path.isfile(ellFile):\n",
    "        return pickle.load(open(ellFile, 'rb'))\n",
    "    else:\n",
    "        warnings.warn(\"!!! Can not find the Ellipse Output at %s\" % \n",
    "                      ellFile )\n",
    "        return None"
   ]
  },
  {
   "cell_type": "code",
   "execution_count": 3,
   "metadata": {
    "collapsed": true
   },
   "outputs": [],
   "source": [
    "location = '/Users/songhuang/work/hscs/hsc_cutout/test/127/HSC-I/default'\n",
    "testFile = 'redBCG_127_HSC-I_full_psf_ellip_3.pkl'\n",
    "testEll = os.path.join(location, testFile)\n",
    "testSbp = readProfile"
   ]
  },
  {
   "cell_type": "code",
   "execution_count": 6,
   "metadata": {
    "collapsed": false
   },
   "outputs": [
    {
     "data": {
      "text/plain": [
       "21.435890000000001"
      ]
     },
     "execution_count": 6,
     "metadata": {},
     "output_type": "execute_result"
    }
   ],
   "source": [
    "np.max(testSbp['sma'])"
   ]
  },
  {
   "cell_type": "code",
   "execution_count": 42,
   "metadata": {
    "collapsed": false
   },
   "outputs": [
    {
     "name": "stderr",
     "output_type": "stream",
     "text": [
      "/usr/local/lib/python2.7/site-packages/ipykernel/__main__.py:2: RuntimeWarning: invalid value encountered in log10\n",
      "  from ipykernel import kernelapp as app\n"
     ]
    }
   ],
   "source": [
    "rad = (testSbp['sma'] ** 0.25)\n",
    "sbp = - 2.5 * np.log10(testSbp['intens'])"
   ]
  },
  {
   "cell_type": "code",
   "execution_count": 49,
   "metadata": {
    "collapsed": false
   },
   "outputs": [],
   "source": [
    "rsma_common = np.arange(0.4, 4.1, 0.01)\n",
    "intrpFunc = interp1d(rad, sbp, kind='slinear', bounds_error=False)"
   ]
  },
  {
   "cell_type": "code",
   "execution_count": 50,
   "metadata": {
    "collapsed": false
   },
   "outputs": [],
   "source": [
    "sbpInterp = intrpFunc(rsma_common)"
   ]
  },
  {
   "cell_type": "code",
   "execution_count": 51,
   "metadata": {
    "collapsed": false
   },
   "outputs": [
    {
     "data": {
      "text/plain": [
       "[<matplotlib.lines.Line2D at 0x10f296050>]"
      ]
     },
     "execution_count": 51,
     "metadata": {},
     "output_type": "execute_result"
    },
    {
     "data": {
      "image/png": "[encoded data removed]",
      "text/plain": [
       "<matplotlib.figure.Figure at 0x10f2a1050>"
      ]
     },
     "metadata": {},
     "output_type": "display_data"
    }
   ],
   "source": [
    "plt.plot(rad, sbp, c='r')\n",
    "plt.plot(rsma_common, sbpInterp, c='b')"
   ]
  },
  {
   "cell_type": "code",
   "execution_count": 52,
   "metadata": {
    "collapsed": false
   },
   "outputs": [
    {
     "data": {
      "text/plain": [
       "array([  3.07062774,   3.07266096,   3.07469419,   3.07672742,\n",
       "         3.07876064,   3.08079387,   3.0828271 ,   3.08486033,\n",
       "         3.08689355,   3.08892678,   3.09096001,   3.09299323,\n",
       "         3.09502646,   3.09705969,   3.09909291,   3.10112614,\n",
       "         3.10315937,   3.1051926 ,   3.10722582,   3.10925905,\n",
       "         3.11129228,   3.1133255 ,   3.11535873,   3.11739196,\n",
       "         3.11942518,   3.12145841,   3.12349164,   3.12552487,\n",
       "         3.12755809,   3.12959132,   3.13162455,   3.13365777,\n",
       "         3.135691  ,   3.13772423,   3.13975745,   3.14179068,\n",
       "         3.14382391,   3.14585714,   3.14789036,   3.14992359,\n",
       "         3.15195682,   3.15399004,   3.15602327,   3.1580565 ,\n",
       "         3.16008972,   3.1624086 ,   3.17131779,   3.18022699,\n",
       "         3.18989827,   3.19957501,   3.21000985,   3.22053381,\n",
       "         3.23175771,   3.24321973,   3.25525078,   3.26775557,\n",
       "         3.28060032,   3.2942687 ,   3.30793709,   3.32303859,\n",
       "         3.33816295,   3.35572613,   3.37477907,   3.39498237,\n",
       "         3.41977951,   3.44457666,   3.47290784,   3.50260394,\n",
       "         3.53323831,   3.56806919,   3.60290007,   3.64127963,\n",
       "         3.68219885,   3.72311808,   3.771716  ,   3.82097901,\n",
       "         3.87216889,   3.93138885,   3.99060881,   4.05270595,\n",
       "         4.11910102,   4.18549609,   4.24989237,   4.3125938 ,\n",
       "         4.37529523,   4.44020973,   4.50652538,   4.57284103,\n",
       "         4.65919457,   4.7582058 ,   4.85721703,   4.96182706,\n",
       "         5.07118554,   5.18054401,   5.28513128,   5.38241835,\n",
       "         5.47970541,   5.57901739,   5.68797266,   5.79692792,\n",
       "         5.90588318,   6.02595185,   6.1476205 ,   6.26928915,\n",
       "         6.38707935,   6.50091589,   6.61475243,   6.7288877 ,\n",
       "         6.85131481,   6.97374192,   7.09616903,   7.21423767,\n",
       "         7.32778614,   7.44133461,   7.55488308,   7.66797746,\n",
       "         7.78099889,   7.89402032,   8.00606877,   8.11236687,\n",
       "         8.21866497,   8.32496308,   8.43167439,   8.53919415,\n",
       "         8.64671392,   8.75423368,   8.8607974 ,   8.96614425,\n",
       "         9.0714911 ,   9.17683794,   9.27909173,   9.37753003,\n",
       "         9.47596833,   9.57440663,   9.66798629,   9.75289757,\n",
       "         9.83780884,   9.92272012,  10.00756452,  10.09208713,\n",
       "        10.17660974,  10.26113235,  10.34565495,  10.45142957,\n",
       "        10.5599937 ,  10.66855783,  10.77712195,  10.86768155,\n",
       "        10.93968692,  11.0116923 ,  11.08369767,  11.15570305,\n",
       "        11.22215323,  11.28857604,  11.35499886,  11.42142168,\n",
       "        11.51213872,  11.64097206,  11.7698054 ,  11.89863874,\n",
       "        12.02747207,  12.11858429,  12.19131577,  12.26404726,\n",
       "        12.33677874,  12.40951022,  12.73110843,  13.09950083,\n",
       "        13.46789322,  13.83628562,  14.20467802,          nan,\n",
       "                nan,          nan,          nan,          nan,\n",
       "                nan,          nan,          nan,          nan,\n",
       "                nan,          nan,          nan,          nan,\n",
       "                nan,          nan,          nan,          nan,\n",
       "                nan,          nan,          nan,          nan,\n",
       "                nan,          nan,          nan,          nan,\n",
       "                nan,          nan,          nan,          nan,\n",
       "                nan,          nan,          nan,          nan,\n",
       "                nan,          nan,          nan,          nan,\n",
       "                nan,          nan,          nan,          nan,\n",
       "                nan,          nan,          nan,          nan,\n",
       "                nan,          nan,          nan,          nan,\n",
       "                nan,          nan,          nan,          nan,\n",
       "                nan,          nan,          nan,          nan,\n",
       "                nan,          nan,          nan,          nan,\n",
       "                nan,          nan,          nan,          nan,\n",
       "                nan,          nan,          nan,          nan,\n",
       "                nan,          nan,          nan,          nan,\n",
       "                nan,          nan,          nan,          nan,\n",
       "                nan,          nan,          nan,          nan,\n",
       "                nan,          nan,          nan,          nan,\n",
       "                nan,          nan,          nan,          nan,\n",
       "                nan,          nan,          nan,          nan,\n",
       "                nan,          nan,          nan,          nan,\n",
       "                nan,          nan,          nan,          nan,\n",
       "                nan,          nan,          nan,          nan,\n",
       "                nan,          nan,          nan,          nan,\n",
       "                nan,          nan,          nan,          nan,\n",
       "                nan,          nan,          nan,          nan,\n",
       "                nan,          nan,          nan,          nan,\n",
       "                nan,          nan,          nan,          nan,\n",
       "                nan,          nan,          nan,          nan,\n",
       "                nan,          nan,          nan,          nan,\n",
       "                nan,          nan,          nan,          nan,\n",
       "                nan,          nan,          nan,          nan,\n",
       "                nan,          nan,          nan,          nan,\n",
       "                nan,          nan,          nan,          nan,\n",
       "                nan,          nan,          nan,          nan,\n",
       "                nan,          nan,          nan,          nan,\n",
       "                nan,          nan,          nan,          nan,\n",
       "                nan,          nan,          nan,          nan,\n",
       "                nan,          nan,          nan,          nan,\n",
       "                nan,          nan,          nan,          nan,\n",
       "                nan,          nan,          nan,          nan,\n",
       "                nan,          nan,          nan,          nan,\n",
       "                nan,          nan,          nan,          nan,\n",
       "                nan,          nan,          nan,          nan,\n",
       "                nan,          nan,          nan,          nan,\n",
       "                nan,          nan,          nan,          nan,\n",
       "                nan,          nan])"
      ]
     },
     "execution_count": 52,
     "metadata": {},
     "output_type": "execute_result"
    }
   ],
   "source": [
    "sbpInterp"
   ]
  },
  {
   "cell_type": "code",
   "execution_count": null,
   "metadata": {
    "collapsed": true
   },
   "outputs": [],
   "source": []
  }
 ],
 "metadata": {
  "kernelspec": {
   "display_name": "Python 2",
   "language": "python",
   "name": "python2"
  },
  "language_info": {
   "codemirror_mode": {
    "name": "ipython",
    "version": 2
   },
   "file_extension": ".py",
   "mimetype": "text/x-python",
   "name": "python",
   "nbconvert_exporter": "python",
   "pygments_lexer": "ipython2",
   "version": "2.7.11"
  }
 },
 "nbformat": 4,
 "nbformat_minor": 0
}
