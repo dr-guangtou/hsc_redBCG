{
 "cells": [
  {
   "cell_type": "code",
   "execution_count": 1,
   "metadata": {
    "collapsed": false
   },
   "outputs": [
    {
     "name": "stdout",
     "output_type": "stream",
     "text": [
      "Populating the interactive namespace from numpy and matplotlib\n"
     ]
    }
   ],
   "source": [
    "%pylab inline\n",
    "\n",
    "from __future__ import (division, print_function)\n",
    "\n",
    "import os\n",
    "import sys\n",
    "import copy\n",
    "import fnmatch\n",
    "import warnings\n",
    "import collections\n",
    "\n",
    "import numpy as np\n",
    "import scipy\n",
    "try:\n",
    "    from scipy.stats import scoreatpercentile\n",
    "except:\n",
    "    scoreatpercentile = False\n",
    "from scipy.interpolate import interp1d\n",
    "import cPickle as pickle\n",
    "\n",
    "# Astropy\n",
    "from astropy.io import fits\n",
    "from astropy    import units as u\n",
    "from astropy.stats import sigma_clip\n",
    "from astropy.table import Table, Column\n",
    "from astropy.utils.console import ProgressBar\n",
    "\n",
    "# AstroML\n",
    "from astroML.plotting import hist\n",
    "\n",
    "# Matplotlib related\n",
    "import matplotlib.pyplot as plt\n",
    "from matplotlib.patches import Ellipse\n",
    "from matplotlib.ticker import NullFormatter\n",
    "from matplotlib.ticker import MaxNLocator\n",
    "# Matplotlib default settings\n",
    "rcdef = plt.rcParams.copy()\n",
    "pylab.rcParams['figure.figsize'] = 12, 10\n",
    "pylab.rcParams['xtick.major.size'] = 8.0\n",
    "pylab.rcParams['xtick.major.width'] = 2.5\n",
    "pylab.rcParams['xtick.minor.size'] = 4.0\n",
    "pylab.rcParams['xtick.minor.width'] = 2.5\n",
    "pylab.rcParams['ytick.major.size'] = 8.0\n",
    "pylab.rcParams['ytick.major.width'] = 2.5\n",
    "pylab.rcParams['ytick.minor.size'] = 4.0\n",
    "pylab.rcParams['ytick.minor.width'] = 2.5\n",
    "\n",
    "# Personal\n",
    "import hscUtils as hUtil\n",
    "import galSBP"
   ]
  },
  {
   "cell_type": "code",
   "execution_count": 2,
   "metadata": {
    "collapsed": true
   },
   "outputs": [],
   "source": [
    "# Absolute magnitude of sun in HSC filters\n",
    "\n",
    "# Actuall borrowed from DES filters\n",
    "# Values from magsun.data in FSPS\n",
    "amag_sun_des_g = 5.08\n",
    "amag_sun_des_r = 4.62\n",
    "amag_sun_des_i = 4.52\n",
    "amag_sun_des_z = 4.52\n",
    "amag_sun_des_y = 4.51\n",
    "\n",
    "# Based on http://www.baryons.org/ezgal/filters.php\n",
    "amag_sun_ukiss_y = 4.515\n",
    "\n",
    "# Extinction correction factor for HSC \n",
    "## A\\_lambda = Coeff * E(B-V) \n",
    "\n",
    "a_hsc_g = 3.233\n",
    "a_hsc_r = 2.291 \n",
    "a_hsc_i = 1.635\n",
    "a_hsc_z = 1.261\n",
    "a_hsc_y = 1.076\n",
    "\n",
    "# \n",
    "SIGMA1 = 0.3173\n",
    "SIGMA2 = 0.0455\n",
    "SIGMA3 = 0.0027"
   ]
  },
  {
   "cell_type": "code",
   "execution_count": 3,
   "metadata": {
    "collapsed": true
   },
   "outputs": [],
   "source": [
    "# Code for Get Bootstrap mean or median \n",
    "def _confidence_interval_1d(A, alpha=.05, metric=np.mean, numResamples=10000, interpolate=True):\n",
    "    \"\"\"Calculates bootstrap confidence interval along one dimensional array\"\"\"\n",
    "    \n",
    "    if not isinstance(alpha, collections.Iterable):\n",
    "        alpha = np.array([alpha])\n",
    "\n",
    "    N = len(A)\n",
    "    resampleInds = np.random.randint(0, N, (numResamples,N))\n",
    "    metricOfResampled = metric(A[resampleInds], axis=-1)\n",
    "\n",
    "    confidenceInterval = np.zeros(2*len(alpha),dtype='float')\n",
    "    \n",
    "    if interpolate:\n",
    "        for thisAlphaInd, thisAlpha in enumerate(alpha):\n",
    "            confidenceInterval[2*thisAlphaInd] = scoreatpercentile(metricOfResampled, \n",
    "                                                                   thisAlpha*100/2.0)\n",
    "            confidenceInterval[2*thisAlphaInd+1] = scoreatpercentile(metricOfResampled, \n",
    "                                                                     100-thisAlpha*100/2.0)\n",
    "    else:\n",
    "        sortedMetricOfResampled = np.sort(metricOfResampled)\n",
    "        for thisAlphaInd, thisAlpha in enumerate(alpha):\n",
    "            confidenceInterval[2*thisAlphaInd] = sortedMetricOfResampled[int(round(thisAlpha*numResamples/2.0))]\n",
    "            confidenceInterval[2*thisAlphaInd+1] = sortedMetricOfResampled[int(round(numResamples - \n",
    "                                                                                     thisAlpha*numResamples/2.0))]\n",
    "    return confidenceInterval\n",
    "    \n",
    "def _ma_confidence_interval_1d(A, alpha=.05, metric=np.mean, numResamples=10000, interpolate=True):\n",
    "    A = np.ma.masked_invalid(A, copy=True)\n",
    "    A = A.compressed()\n",
    "    confidenceInterval = _confidence_interval_1d(A, alpha, metric, numResamples, interpolate)\n",
    "    return confidenceInterval\n",
    "\n",
    "def confidence_interval(A, axis=None, alpha=.05, metric=np.mean, numResamples=10000, interpolate=True):\n",
    "    \"\"\"Return the bootstrap confidence interval of an array or along an axis ignoring NaNs and masked elements.\n",
    "    \n",
    "    Parameters\n",
    "    ----------\n",
    "    A : array_like\n",
    "        Array containing numbers whose confidence interval is desired. \n",
    "    axis : int, optional\n",
    "        Axis along which the confidence interval is computed.\n",
    "        The default is to compute the confidence interval of the flattened array.\n",
    "    alpha: float or array, optional\n",
    "        confidence level of confidence interval. 100.0*(1-alpha) percent confidence \n",
    "        interval will be returned.\n",
    "        If length-n array, n confidence intervals will be computed\n",
    "        The default is .05\n",
    "    metric : numpy function, optional\n",
    "        metric to calculate confidence interval for.\n",
    "        The default is numpy.mean\n",
    "    numResamples : int, optional\n",
    "        number of bootstrap samples. The default is 10000.\n",
    "    interpolate: bool, optional\n",
    "        uses scipy.stats.scoreatpercentile to interpolate between bootstrap samples \n",
    "        if alpha*numResamples/2.0 is not integer.\n",
    "        The default is True\n",
    "        \n",
    "    Returns\n",
    "    -------\n",
    "    confidenceInterval : ndarray\n",
    "    An array with the same shape as `A`, with the specified axis replaced by one twice the length of the alpha\n",
    "    If `A` is a 0-d array, or if axis is None, a length-2 ndarray is returned.\n",
    "    \"\"\"\n",
    "    if interpolate is True and scoreatpercentile is False:\n",
    "        print(\"need scipy to interpolate between values\")\n",
    "        interpolate = False\n",
    "    A = A.copy()\n",
    "    if axis is None:\n",
    "        A = A.ravel()\n",
    "        outA = _ma_confidence_interval_1d(A, alpha, metric, numResamples, interpolate)\n",
    "    else:\n",
    "        outA = np.apply_along_axis(_ma_confidence_interval_1d, axis, A, alpha, \n",
    "                                   metric, numResamples, interpolate)\n",
    "        \n",
    "    return outA"
   ]
  },
  {
   "cell_type": "code",
   "execution_count": 4,
   "metadata": {
    "collapsed": true
   },
   "outputs": [],
   "source": [
    "def normProf(sma, sbp, minSma, maxSma): \n",
    "    \"\"\"\n",
    "    Naive method to normalize the profile. \n",
    "    \n",
    "    Parameters: \n",
    "        sbp    : Array for surface brightness profile \n",
    "        sma    : Radius range \n",
    "        minSma : Minimum SMA\n",
    "        maxSma   Maximum SMA\n",
    "    \"\"\"\n",
    "    offset = np.nanmedian(sbp[(sma >= minSma) & \n",
    "                              (sma <= maxSma)])\n",
    "    return (sbp-offset)"
   ]
  },
  {
   "cell_type": "code",
   "execution_count": 5,
   "metadata": {
    "collapsed": true
   },
   "outputs": [],
   "source": [
    "def pixKpc(redshift, pix=0.168, show=True, npix=1.0):\n",
    "    \"\"\"\n",
    "    Get the corresponding Kpc size of a pixel.  \n",
    "    \n",
    "    Parameters: \n",
    "    \"\"\"\n",
    "    pixKpc = pix * npix * hUtil.cosmoScale(redshift)\n",
    "\n",
    "    if show:\n",
    "        print(\"# %d pixel(s) = %6.3f Kpc\" % (npix, pixKpc))\n",
    "        \n",
    "    return pixKpc"
   ]
  },
  {
   "cell_type": "code",
   "execution_count": 6,
   "metadata": {
    "collapsed": true
   },
   "outputs": [],
   "source": [
    "def logAdd(para1, para2):\n",
    "    \"\"\" Useful for adding magnitudes. \"\"\"\n",
    "    return np.log10((10.0 ** np.asarray(para1)) + \n",
    "                    (10.0 ** np.asarray(para2)))\n",
    "\n",
    "def errAdd(err1, err2):\n",
    "    \"\"\"Add error quadral...\"\"\"\n",
    "    return np.sqrt((err1 ** 2.0) + \n",
    "                   (err2 ** 2.0))"
   ]
  },
  {
   "cell_type": "code",
   "execution_count": 7,
   "metadata": {
    "collapsed": true
   },
   "outputs": [],
   "source": [
    "def toColorArr(data, bottom=None, top=None):\n",
    "    \"\"\" \n",
    "    Convert a data array to \"color array\" (between 0 and 1). \n",
    "    \n",
    "    Parameters:\n",
    "        bottom, top  : \n",
    "    \"\"\"\n",
    "    if top is not None:\n",
    "        data[data >= top] = top\n",
    "    if bottom is not None:\n",
    "        data[data <= bottom] = bottom\n",
    "        \n",
    "    return ((data - np.nanmin(data)) / \n",
    "            (np.nanmax(data) - np.nanmin(data))) * 255.0"
   ]
  },
  {
   "cell_type": "code",
   "execution_count": 12,
   "metadata": {
    "collapsed": true
   },
   "outputs": [],
   "source": [
    "def getLuminosity(mag, redshift, extinction=None, \n",
    "                  amag_sun=None):\n",
    "    \"\"\"Get the absolute magnitude or luminosity.\"\"\"\n",
    "    distmod = hUtil.cosmoDistMod(redshift)\n",
    "    absMag = (mag - distmod)\n",
    "    if extinction is not None: \n",
    "        absMag -= extinction \n",
    "    if amag_sun is not None: \n",
    "        absMag = ((amag_sun - absMag) / 2.5)\n",
    "    \n",
    "    return absMag"
   ]
  },
  {
   "cell_type": "markdown",
   "metadata": {},
   "source": [
    "# Results by 2016-01-08\n",
    "\n",
    "* Three major datasets: \n",
    "    \n",
    "    1. redBCG - `/Users/songhuang/work/hscs/gama_massive/sbp/redbcg`: **219** galaxies (vetted)\n",
    "        - `redmapper_bcg_hscmatch_mass_use_sbpsum_modA_muI1.fits`\n",
    "    2. redMem - `/Users/songhuang/work/hscs/gama_massive/sbp/redmem`: **1578** galaxies (not vetted)\n",
    "        - `redmapper_mem_hscmatch_mass_sbpsum_modA_muI1.fits`\n",
    "    3. gama - `/Users/songhuang/work/hscs/gama_massive/sbp/gama`: **7646** galaxies (not vetted)\n",
    "        - `gama_massive_160107_sbpsum_modA_muI1.fits`"
   ]
  },
  {
   "cell_type": "code",
   "execution_count": 8,
   "metadata": {
    "collapsed": false
   },
   "outputs": [
    {
     "name": "stderr",
     "output_type": "stream",
     "text": [
      "WARNING: UnitsWarning: 'dex' did not parse as fits unit: At col 0, Unit 'dex' not supported by the FITS standard.  [astropy.units.core]\n",
      "WARNING:astropy:UnitsWarning: 'dex' did not parse as fits unit: At col 0, Unit 'dex' not supported by the FITS standard. \n"
     ]
    }
   ],
   "source": [
    "newDir = '/Users/songhuang/work/hscs/gama_massive/sbp/'\n",
    "\n",
    "# Folder for 3 datasets\n",
    "bcgDir = os.path.join(newDir, 'redbcg')\n",
    "memDir = os.path.join(newDir, 'redmem')\n",
    "gamaDir = os.path.join(newDir, 'gama')\n",
    "\n",
    "# Two summary catalogs\n",
    "#bcgCat = os.path.join(bcgDir, 'redmapper_bcg_hscmatch_mass_use_sbpsum_modA_muI1.fits')\n",
    "bcgCat = os.path.join(bcgDir, 'redbcg_mass_use.fits')\n",
    "memCat = os.path.join(memDir, 'redmapper_mem_hscmatch_mass_sbpsum_modA_muI1.fits')\n",
    "gamaCat = os.path.join(gamaDir, 'gama_massive_160107_sbpsum_modA_muI1.fits')\n",
    "\n",
    "if not os.path.isfile(bcgCat):\n",
    "    raise Exception(\"## Can not find catalog for BCGs : %s\" % bcgCat)\n",
    "else: \n",
    "    bcgTab = Table.read(bcgCat, format='fits')\n",
    "\n",
    "if not os.path.isfile(memCat):\n",
    "    raise Exception(\"## Can not find catalog for cluster members : %s\" % memCat)\n",
    "else: \n",
    "    memTab = Table.read(memCat, format='fits')\n",
    "    \n",
    "if not os.path.isfile(gamaCat):\n",
    "    raise Exception(\"## Can not find catalog for GAMA galaxies : %s\" % gamaCat)\n",
    "else: \n",
    "    gamaTab = Table.read(gamaCat, format='fits')"
   ]
  },
  {
   "cell_type": "code",
   "execution_count": 9,
   "metadata": {
    "collapsed": false
   },
   "outputs": [
    {
     "name": "stdout",
     "output_type": "stream",
     "text": [
      "## Deal with 219 galaxies in BCG sample\n",
      "## Deal with 1670 galaxies in Cluster member sample\n",
      "## Deal with 8165 galaxies in GAMA sample\n"
     ]
    }
   ],
   "source": [
    "print(\"## Deal with %i galaxies in BCG sample\" % len(bcgTab))\n",
    "print(\"## Deal with %i galaxies in Cluster member sample\" % len(memTab))\n",
    "print(\"## Deal with %i galaxies in GAMA sample\" % len(gamaTab))"
   ]
  },
  {
   "cell_type": "code",
   "execution_count": 11,
   "metadata": {
    "collapsed": false
   },
   "outputs": [
    {
     "name": "stdout",
     "output_type": "stream",
     "text": [
      "['ID_CLUSTER', 'ID_USE', 'NAME', 'RA_BCG', 'DEC_BCG', 'Z_LAMBDA', 'Z_LAMBDA_ERR', 'LAMBDA_CLUSTER', 'LAMBDA_ERR_CLUSTER', 'S_CLUSTER', 'Z_SPEC_BCG', 'OBJID_BCG', 'IMAG_BCG', 'IMAG_ERR_BCG', 'MODEL_MAG_u_BCG', 'MODEL_MAG_g_BCG', 'MODEL_MAG_r_BCG', 'MODEL_MAG_i_BCG', 'MODEL_MAG_z_BCG', 'MODEL_MAGERR_u_BCG', 'MODEL_MAGERR_g_BCG', 'MODEL_MAGERR_r_BCG', 'MODEL_MAGERR_i_BCG', 'MODEL_MAGERR_z_BCG', 'ILUM_BCG', 'PZBINS_1', 'PZBINS_2', 'PZBINS_3', 'PZ_1', 'PZ_2', 'PZ_3', 'P_CEN_1', 'P_CEN_2', 'P_CEN_3', 'P_CEN_4', 'P_CEN_5', 'RA_CEN_1', 'RA_CEN_2', 'RA_CEN_3', 'RA_CEN_4', 'RA_CEN_5', 'DEC_CEN_1', 'DEC_CEN_2', 'DEC_CEN_3', 'DEC_CEN_4', 'DEC_CEN_5', 'ID_CEN_1', 'ID_CEN_2', 'ID_CEN_3', 'ID_CEN_4', 'ID_CEN_5', 'ra2000', 'decl2000', 'tract', 'patch', 'id', 'parent', 'a_g', 'a_r', 'a_i', 'a_z', 'a_y', 'gmag_psf', 'gmag_psf_err', 'rmag_psf', 'rmag_psf_err', 'imag_psf', 'imag_psf_err', 'zmag_psf', 'zmag_psf_err', 'ymag_psf', 'ymag_psf_err', 'gmag_kron', 'gmag_kron_err', 'rmag_kron', 'rmag_kron_err', 'imag_kron', 'imag_kron_err', 'zmag_kron', 'zmag_kron_err', 'ymag_kron', 'ymag_kron_err', 'gmag_cmodel', 'gmag_cmodel_err', 'gmag_cmodel_exp', 'gmag_cmodel_exp_err', 'gmag_cmodel_dev', 'gmag_cmodel_dev_err', 'rmag_cmodel', 'rmag_cmodel_err', 'rmag_cmodel_exp', 'rmag_cmodel_exp_err', 'rmag_cmodel_dev', 'rmag_cmodel_dev_err', 'imag_cmodel', 'imag_cmodel_err', 'imag_cmodel_exp', 'imag_cmodel_exp_err', 'imag_cmodel_dev', 'imag_cmodel_dev_err', 'zmag_cmodel', 'zmag_cmodel_err', 'zmag_cmodel_exp', 'zmag_cmodel_exp_err', 'zmag_cmodel_dev', 'zmag_cmodel_dev_err', 'ymag_cmodel', 'ymag_cmodel_err', 'ymag_cmodel_exp', 'ymag_cmodel_exp_err', 'ymag_cmodel_dev', 'ymag_cmodel_dev_err', 'if_classification_extendedness', 'if_flags_pixel_edge', 'if_flags_pixel_interpolated_center', 'if_flags_pixel_saturated_center', 'if_centroid_naive_flags', 'if_centroid_sdss_flags', 'if_flux_aperture_flags', 'if_flux_kron_flags', 'if_cmodel_flux_flags', 'if_shape_sdss_flags', 'if_countinputs', 'if_cmodel_fracdev', 'if_cmodel_objective', 'im_mag_kron_2', 'im_mag_kron_2a', 'im_mag_cmodel', 'im_mag_cmodel_err', 'im_mag_cmodel_exp', 'im_mag_cmodel_dev', 'im_cmodel_flux', 'im_cmodel_flux_err', 'im_cmodel_exp_flux', 'im_cmodel_exp_flux_err', 'im_cmodel_dev_flux', 'im_cmodel_dev_flux_err', 'im_deblend_blendedness', 'im_cmodel_exp_ellipse', 'im_cmodel_dev_ellipse', 'im_cmodel_fracdev', 'im_cmodel_objective', 'im_classification_extendedness', 'im_flux_kron_flags', 'im_cmodel_flux_flags', 'im_shape_sdss_flags', 'im_detect_is_patch_inner', 'im_detect_is_tract_inner', 'im_detect_is_primary', 'im_merge_peak_g', 'im_merge_peak_r', 'im_merge_peak_i', 'im_merge_peak_z', 'im_merge_peak_y', 'im_merge_footprint_g', 'im_merge_footprint_r', 'im_merge_footprint_i', 'im_merge_footprint_z', 'im_merge_footprint_y', 'ir_deblend_blendedness', 'ir_deblend_has_stray_flux', 'ir_deblend_masked', 'ir_deblend_parent_too_big', 'ir_deblend_skipped', 'ir_deblend_too_many_peaks', 'ir_deblend_as_psf', 'ir_detect_is_patch_inner', 'ir_detect_is_tract_inner', 'ir_detect_is_primary', 'ir_merge_measurement_g', 'ir_merge_measurement_r', 'ir_merge_measurement_i', 'ir_merge_measurement_z', 'ir_merge_measurement_y', 'ra_gama', 'dec_gama', 'gama_id', 'gama_name', 'n_spec', 'n_gama_spec', 'gama_specid', 'survey', 'survey_code', 'z_gama', 'z_use', 'zquality_gama', 'z_tonry_gama', 'zprob_gama', 'objid_dr6', 'nbands', 'logms_gama', 'logms_err_gama', 'logm2l_i_gama', 'logm2l_i_err_gama', 'gi_rest_sed', 'gi_rest_sed_err', 'ur_rest_sed', 'ur_rest_sed_err', 'gi_rest_star', 'ur_rest_star', 'Maggies', 'IvarMaggies', 'absG_cmodel', 'absR_cmodel', 'absI_cmodel', 'absZ_cmodel', 'absY_cmodel', 'INDEX', 'ISEDFIT_ID', 'RA', 'DEC', 'Z', 'MAGGIES_G', 'MAGGIES_R', 'MAGGIES_I', 'MAGGIES_Z', 'MAGGIES_Y', 'IVARMAGGIES_G', 'IVARMAGGIES_R', 'IVARMAGGIES_I', 'IVARMAGGIES_Z', 'IVARMAGGIES_Y', 'BESTMAGGIES_G', 'BESTMAGGIES_R', 'BESTMAGGIES_I', 'BESTMAGGIES_Z', 'BESTMAGGIES_Y', 'CHUNKINDX', 'MODELINDX', 'DELAYED', 'BURSTTYPE', 'CHI2_SEDFIT', 'TOTALMASS', 'TOTALMASS_ERR', 'MSTAR', 'AGE', 'SFRAGE', 'TAU', 'ZMETAL', 'AV', 'MU', 'OIIIHB', 'NLYC', 'SFR', 'SFR100', 'B100', 'B1000', 'EWOII', 'EWOIIIHB', 'EWNIIHA', 'NBURST', 'TRUNCTAU', 'MSTAR_50', 'AGE_50', 'SFRAGE_50', 'TAU_50', 'ZMETAL_50', 'AV_50', 'MU_50', 'OIIIHB_50', 'SFR_50', 'SFR100_50', 'B100_50', 'B1000_50', 'EWOII_50', 'EWOIIIHB_50', 'EWNIIHA_50', 'MSTAR_AVG', 'AGE_AVG', 'SFRAGE_AVG', 'TAU_AVG', 'ZMETAL_AVG', 'AV_AVG', 'MU_AVG', 'OIIIHB_AVG', 'SFR_AVG', 'SFR100_AVG', 'B100_AVG', 'B1000_AVG', 'EWOII_AVG', 'EWOIIIHB_AVG', 'EWNIIHA_AVG', 'MSTAR_ERR', 'AGE_ERR', 'SFRAGE_ERR', 'TAU_ERR', 'ZMETAL_ERR', 'AV_ERR', 'MU_ERR', 'OIIIHB_ERR', 'SFR_ERR', 'SFR100_ERR', 'B100_ERR', 'B1000_ERR', 'EWOII_ERR', 'EWOIIIHB_ERR', 'EWNIIHA_ERR', 'CHI2_KCORRECT', 'FLAM_1500', 'CFLUX_3727', 'KCORRECT_G', 'KCORRECT_R', 'KCORRECT_I', 'KCORRECT_Z', 'KCORRECT_Y', 'ABSMAG_G', 'ABSMAG_R', 'ABSMAG_I', 'ABSMAG_Z', 'ABSMAG_Y', 'IVARABSMAG_G', 'IVARABSMAG_R', 'IVARABSMAG_I', 'IVARABSMAG_Z', 'IVARABSMAG_Y', 'SYNTH_ABSMAG_G', 'SYNTH_ABSMAG_R', 'SYNTH_ABSMAG_I', 'SYNTH_ABSMAG_Z', 'SYNTH_ABSMAG_Y', 'ABSMAG_FILTERLIST', 'MSTAR_b', 'AGE_b', 'SFRAGE_b', 'TAU_b', 'ZMETAL_b', 'AV_b', 'MU_b', 'MSTAR_ERR_b', 'AGE_ERR_b', 'SFRAGE_ERR_b', 'TAU_ERR_b', 'ZMETAL_ERR_b', 'AV_ERR_b', 'MU_ERR_b', 'KCORRECT_b_G', 'KCORRECT_b_R', 'KCORRECT_b_I', 'KCORRECT_b_Z', 'KCORRECT_b_Y', 'ABSMAG_b_G', 'ABSMAG_b_R', 'ABSMAG_b_I', 'ABSMAG_b_Z', 'ABSMAG_b_Y', 'IVARABSMAG_b_G', 'IVARABSMAG_b_R', 'IVARABSMAG_b_I', 'IVARABSMAG_b_Z', 'IVARABSMAG_b_Y', 'MSTAR_c', 'AGE_c', 'SFRAGE_c', 'TAU_c', 'ZMETAL_c', 'AV_c', 'MU_c', 'MSTAR_ERR_c', 'AGE_ERR_c', 'SFRAGE_ERR_c', 'TAU_ERR_c', 'ZMETAL_ERR_c', 'AV_ERR_c', 'MU_ERR_c', 'KCORRECT_c_G', 'KCORRECT_c_R', 'KCORRECT_c_I', 'KCORRECT_c_Z', 'KCORRECT_c_Y', 'ABSMAG_c_G', 'ABSMAG_c_R', 'ABSMAG_c_I', 'ABSMAG_c_Z', 'ABSMAG_c_Y', 'IVARABSMAG_c_G', 'IVARABSMAG_c_R', 'IVARABSMAG_c_I', 'IVARABSMAG_c_Z', 'IVARABSMAG_c_Y', 'logm2l_g', 'logm2l_r', 'logm2l_i', 'logm2l_z', 'logm2l_y', 'lum_max', 'lum_150', 'lum_120', 'lum_100', 'lum_75', 'lum_50', 'lum_25', 'lum_10', 'sum_tab', 'GAL_MAG_R', 'GAL_RE_R', 'GAL_INDEX_R', 'GAL_ELLIP_R', 'GAL_PA_R', 'GAL_MAG_ERR_R', 'GAL_RE_ERR_R', 'GAL_ELLIP_ERR_R', 'GAL_PA_ERR_R', 'GAL_MAG_I', 'GAL_RE_I', 'GAL_INDEX_I', 'GAL_ELLIP_I', 'GAL_PA_I', 'GAL_MAG_ERR_I', 'GAL_RE_ERR_I', 'GAL_INDEX_ERR_I', 'GAL_ELLIP_ERR_I', 'GAL_PA_ERR_I', 'fluxscale_gama', 'age_gama', 'ageerr_gama']\n"
     ]
    }
   ],
   "source": [
    "print(bcgTab.colnames)"
   ]
  },
  {
   "cell_type": "markdown",
   "metadata": {},
   "source": [
    "# Estimate the luminosity, mass-to-light ratio, and stellar mass \n",
    "    - Consider the the K-correction \n",
    "    - Consider the differen mass models"
   ]
  },
  {
   "cell_type": "code",
   "execution_count": 18,
   "metadata": {
    "collapsed": false
   },
   "outputs": [],
   "source": [
    "## BCG \n",
    "\n",
    "## Luminosity based on hscPipe cModel: \n",
    "lumI_bcg = getLuminosity(bcgTab['imag_cmodel'], bcgTab['Z'], extinction=bcgTab['a_i'], \n",
    "                         amag_sun=amag_sun_des_i)\n",
    "lumG_bcg = getLuminosity(bcgTab['gmag_cmodel'], bcgTab['Z'], extinction=bcgTab['a_g'], \n",
    "                         amag_sun=amag_sun_des_g)\n",
    "lumR_bcg = getLuminosity(bcgTab['rmag_cmodel'], bcgTab['Z'], extinction=bcgTab['a_r'], \n",
    "                         amag_sun=amag_sun_des_r)\n",
    "lumZ_bcg = getLuminosity(bcgTab['zmag_cmodel'], bcgTab['Z'], extinction=bcgTab['a_z'], \n",
    "                         amag_sun=amag_sun_des_z)\n",
    "\n",
    "## K-corrected luminosity: \n",
    "lumI_kA_bcg = lumI_bcg - (bcgTab['KCORRECT_I'] / 2.5)\n",
    "lumI_kB_bcg = lumI_bcg - (bcgTab['KCORRECT_b_I'] / 2.5)\n",
    "lumI_kC_bcg = lumI_bcg - (bcgTab['KCORRECT_c_I'] / 2.5)\n",
    "\n",
    "## K-corrected cModel color: \n",
    "### Model A\n",
    "gr_kA_bcg = ((bcgTab['gmag_cmodel'] - bcgTab['a_g'] + bcgTab['KCORRECT_G']) - \n",
    "             (bcgTab['rmag_cmodel'] - bcgTab['a_r'] + bcgTab['KCORRECT_R']))\n",
    "gi_kA_bcg = ((bcgTab['gmag_cmodel'] - bcgTab['a_g'] + bcgTab['KCORRECT_G']) - \n",
    "             (bcgTab['imag_cmodel'] - bcgTab['a_i'] + bcgTab['KCORRECT_I']))\n",
    "gz_kA_bcg = ((bcgTab['gmag_cmodel'] - bcgTab['a_g'] + bcgTab['KCORRECT_G']) - \n",
    "             (bcgTab['zmag_cmodel'] - bcgTab['a_z'] + bcgTab['KCORRECT_Z']))\n",
    "ri_kA_bcg = ((bcgTab['rmag_cmodel'] - bcgTab['a_r'] + bcgTab['KCORRECT_R']) - \n",
    "             (bcgTab['imag_cmodel'] - bcgTab['a_i'] + bcgTab['KCORRECT_I']))\n",
    "### Model B\n",
    "gr_kB_bcg = ((bcgTab['gmag_cmodel'] - bcgTab['a_g'] + bcgTab['KCORRECT_b_G']) - \n",
    "             (bcgTab['rmag_cmodel'] - bcgTab['a_r'] + bcgTab['KCORRECT_b_R']))\n",
    "gi_kB_bcg = ((bcgTab['gmag_cmodel'] - bcgTab['a_g'] + bcgTab['KCORRECT_b_G']) - \n",
    "             (bcgTab['imag_cmodel'] - bcgTab['a_i'] + bcgTab['KCORRECT_b_I']))\n",
    "gz_kB_bcg = ((bcgTab['gmag_cmodel'] - bcgTab['a_g'] + bcgTab['KCORRECT_b_G']) - \n",
    "             (bcgTab['zmag_cmodel'] - bcgTab['a_z'] + bcgTab['KCORRECT_b_Z']))\n",
    "ri_kB_bcg = ((bcgTab['rmag_cmodel'] - bcgTab['a_r'] + bcgTab['KCORRECT_b_R']) - \n",
    "             (bcgTab['imag_cmodel'] - bcgTab['a_i'] + bcgTab['KCORRECT_b_I']))\n",
    "### Model C\n",
    "gr_kC_bcg = ((bcgTab['gmag_cmodel'] - bcgTab['a_g'] + bcgTab['KCORRECT_c_G']) - \n",
    "             (bcgTab['rmag_cmodel'] - bcgTab['a_r'] + bcgTab['KCORRECT_c_R']))\n",
    "gi_kC_bcg = ((bcgTab['gmag_cmodel'] - bcgTab['a_g'] + bcgTab['KCORRECT_c_G']) - \n",
    "             (bcgTab['imag_cmodel'] - bcgTab['a_i'] + bcgTab['KCORRECT_c_I']))\n",
    "gz_kC_bcg = ((bcgTab['gmag_cmodel'] - bcgTab['a_g'] + bcgTab['KCORRECT_c_G']) - \n",
    "             (bcgTab['zmag_cmodel'] - bcgTab['a_z'] + bcgTab['KCORRECT_c_Z']))\n",
    "ri_kC_bcg = ((bcgTab['rmag_cmodel'] - bcgTab['a_r'] + bcgTab['KCORRECT_c_R']) - \n",
    "             (bcgTab['imag_cmodel'] - bcgTab['a_i'] + bcgTab['KCORRECT_c_I']))\n",
    "    \n",
    "## Stellar mass from iSEDFit \n",
    "logm2lI_A_bcg = (bcgTab['MSTAR'] - lumI_bcg)\n",
    "logm2lI_B_bcg = (bcgTab['MSTAR_b'] - lumI_bcg)\n",
    "logm2lI_C_bcg = (bcgTab['MSTAR_c'] - lumI_bcg)"
   ]
  },
  {
   "cell_type": "code",
   "execution_count": 19,
   "metadata": {
    "collapsed": true
   },
   "outputs": [],
   "source": [
    "bcgTab.add_column(Column(name='lumI_cmodel', data=lumI_bcg))\n",
    "bcgTab.add_column(Column(name='lumG_cmodel', data=lumG_bcg))\n",
    "bcgTab.add_column(Column(name='lumR_cmodel', data=lumR_bcg))\n",
    "bcgTab.add_column(Column(name='lumZ_cmodel', data=lumZ_bcg))\n",
    "bcgTab.add_column(Column(name='gr_kA', data=gr_kA_bcg))\n",
    "bcgTab.add_column(Column(name='gi_kA', data=gi_kA_bcg))\n",
    "bcgTab.add_column(Column(name='gz_kA', data=gz_kA_bcg))\n",
    "bcgTab.add_column(Column(name='ri_kA', data=ri_kA_bcg))\n",
    "bcgTab.add_column(Column(name='gr_kB', data=gr_kB_bcg))\n",
    "bcgTab.add_column(Column(name='gi_kB', data=gi_kB_bcg))\n",
    "bcgTab.add_column(Column(name='gz_kB', data=gz_kB_bcg))\n",
    "bcgTab.add_column(Column(name='ri_kB', data=ri_kB_bcg))\n",
    "bcgTab.add_column(Column(name='gr_kC', data=gr_kC_bcg))\n",
    "bcgTab.add_column(Column(name='gi_kC', data=gi_kC_bcg))\n",
    "bcgTab.add_column(Column(name='gz_kC', data=gz_kC_bcg))\n",
    "bcgTab.add_column(Column(name='ri_kC', data=ri_kC_bcg))\n",
    "bcgTab.add_column(Column(name='logm2lI_A', data=logm2lI_A_bcg))\n",
    "bcgTab.add_column(Column(name='logm2lI_B', data=logm2lI_B_bcg))\n",
    "bcgTab.add_column(Column(name='logm2lI_C', data=logm2lI_C_bcg))"
   ]
  },
  {
   "cell_type": "code",
   "execution_count": 20,
   "metadata": {
    "collapsed": true
   },
   "outputs": [],
   "source": [
    "## Mem\n",
    "\n",
    "## Luminosity based on hscPipe cModel: \n",
    "lumI_mem = getLuminosity(memTab['imag_cmodel'], memTab['Z'], extinction=memTab['a_i'], \n",
    "                         amag_sun=amag_sun_des_i)\n",
    "lumG_mem = getLuminosity(memTab['gmag_cmodel'], memTab['Z'], extinction=memTab['a_g'], \n",
    "                         amag_sun=amag_sun_des_g)\n",
    "lumR_mem = getLuminosity(memTab['rmag_cmodel'], memTab['Z'], extinction=memTab['a_r'], \n",
    "                         amag_sun=amag_sun_des_r)\n",
    "lumZ_mem = getLuminosity(memTab['zmag_cmodel'], memTab['Z'], extinction=memTab['a_z'], \n",
    "                         amag_sun=amag_sun_des_z)\n",
    "\n",
    "## K-corrected luminosity: \n",
    "lumI_kA_mem = lumI_mem - (memTab['KCORRECT_I'] / 2.5)\n",
    "lumI_kB_mem = lumI_mem - (memTab['KCORRECT_b_I'] / 2.5)\n",
    "lumI_kC_mem = lumI_mem - (memTab['KCORRECT_c_I'] / 2.5)\n",
    "\n",
    "## K-corrected cModel color: \n",
    "### Model A\n",
    "gr_kA_mem = ((memTab['gmag_cmodel'] - memTab['a_g'] + memTab['KCORRECT_G']) - \n",
    "             (memTab['rmag_cmodel'] - memTab['a_r'] + memTab['KCORRECT_R']))\n",
    "gi_kA_mem = ((memTab['gmag_cmodel'] - memTab['a_g'] + memTab['KCORRECT_G']) - \n",
    "             (memTab['imag_cmodel'] - memTab['a_i'] + memTab['KCORRECT_I']))\n",
    "gz_kA_mem = ((memTab['gmag_cmodel'] - memTab['a_g'] + memTab['KCORRECT_G']) - \n",
    "             (memTab['zmag_cmodel'] - memTab['a_z'] + memTab['KCORRECT_Z']))\n",
    "ri_kA_mem = ((memTab['rmag_cmodel'] - memTab['a_r'] + memTab['KCORRECT_R']) - \n",
    "             (memTab['imag_cmodel'] - memTab['a_i'] + memTab['KCORRECT_I']))\n",
    "### Model B\n",
    "gr_kB_mem = ((memTab['gmag_cmodel'] - memTab['a_g'] + memTab['KCORRECT_b_G']) - \n",
    "             (memTab['rmag_cmodel'] - memTab['a_r'] + memTab['KCORRECT_b_R']))\n",
    "gi_kB_mem = ((memTab['gmag_cmodel'] - memTab['a_g'] + memTab['KCORRECT_b_G']) - \n",
    "             (memTab['imag_cmodel'] - memTab['a_i'] + memTab['KCORRECT_b_I']))\n",
    "gz_kB_mem = ((memTab['gmag_cmodel'] - memTab['a_g'] + memTab['KCORRECT_b_G']) - \n",
    "             (memTab['zmag_cmodel'] - memTab['a_z'] + memTab['KCORRECT_b_Z']))\n",
    "ri_kB_mem = ((memTab['rmag_cmodel'] - memTab['a_r'] + memTab['KCORRECT_b_R']) - \n",
    "             (memTab['imag_cmodel'] - memTab['a_i'] + memTab['KCORRECT_b_I']))\n",
    "### Model C\n",
    "gr_kC_mem = ((memTab['gmag_cmodel'] - memTab['a_g'] + memTab['KCORRECT_c_G']) - \n",
    "             (memTab['rmag_cmodel'] - memTab['a_r'] + memTab['KCORRECT_c_R']))\n",
    "gi_kC_mem = ((memTab['gmag_cmodel'] - memTab['a_g'] + memTab['KCORRECT_c_G']) - \n",
    "             (memTab['imag_cmodel'] - memTab['a_i'] + memTab['KCORRECT_c_I']))\n",
    "gz_kC_mem = ((memTab['gmag_cmodel'] - memTab['a_g'] + memTab['KCORRECT_c_G']) - \n",
    "             (memTab['zmag_cmodel'] - memTab['a_z'] + memTab['KCORRECT_c_Z']))\n",
    "ri_kC_mem = ((memTab['rmag_cmodel'] - memTab['a_r'] + memTab['KCORRECT_c_R']) - \n",
    "             (memTab['imag_cmodel'] - memTab['a_i'] + memTab['KCORRECT_c_I']))\n",
    "    \n",
    "## Stellar mass from iSEDFit \n",
    "logm2lI_A_mem = (memTab['MSTAR'] - lumI_mem)\n",
    "logm2lI_B_mem = (memTab['MSTAR_b'] - lumI_mem)\n",
    "logm2lI_C_mem = (memTab['MSTAR_c'] - lumI_mem)"
   ]
  },
  {
   "cell_type": "code",
   "execution_count": 22,
   "metadata": {
    "collapsed": true
   },
   "outputs": [],
   "source": [
    "memTab.add_column(Column(name='lumI_cmodel', data=lumI_mem))\n",
    "memTab.add_column(Column(name='lumG_cmodel', data=lumG_mem))\n",
    "memTab.add_column(Column(name='lumR_cmodel', data=lumR_mem))\n",
    "memTab.add_column(Column(name='lumZ_cmodel', data=lumZ_mem))\n",
    "memTab.add_column(Column(name='gr_kA', data=gr_kA_mem))\n",
    "memTab.add_column(Column(name='gi_kA', data=gi_kA_mem))\n",
    "memTab.add_column(Column(name='gz_kA', data=gz_kA_mem))\n",
    "memTab.add_column(Column(name='ri_kA', data=ri_kA_mem))\n",
    "memTab.add_column(Column(name='gr_kB', data=gr_kB_mem))\n",
    "memTab.add_column(Column(name='gi_kB', data=gi_kB_mem))\n",
    "memTab.add_column(Column(name='gz_kB', data=gz_kB_mem))\n",
    "memTab.add_column(Column(name='ri_kB', data=ri_kB_mem))\n",
    "memTab.add_column(Column(name='gr_kC', data=gr_kC_mem))\n",
    "memTab.add_column(Column(name='gi_kC', data=gi_kC_mem))\n",
    "memTab.add_column(Column(name='gz_kC', data=gz_kC_mem))\n",
    "memTab.add_column(Column(name='ri_kC', data=ri_kC_mem))\n",
    "memTab.add_column(Column(name='logm2lI_A', data=logm2lI_A_mem))\n",
    "memTab.add_column(Column(name='logm2lI_B', data=logm2lI_B_mem))\n",
    "memTab.add_column(Column(name='logm2lI_C', data=logm2lI_C_mem))"
   ]
  },
  {
   "cell_type": "code",
   "execution_count": 21,
   "metadata": {
    "collapsed": true
   },
   "outputs": [],
   "source": [
    "## GAMA\n",
    "\n",
    "## Luminosity based on hscPipe cModel: \n",
    "lumI_gama = getLuminosity(gamaTab['imag_cmodel'], gamaTab['Z'], extinction=gamaTab['a_i'], \n",
    "                         amag_sun=amag_sun_des_i)\n",
    "lumG_gama = getLuminosity(gamaTab['gmag_cmodel'], gamaTab['Z'], extinction=gamaTab['a_g'], \n",
    "                         amag_sun=amag_sun_des_g)\n",
    "lumR_gama = getLuminosity(gamaTab['rmag_cmodel'], gamaTab['Z'], extinction=gamaTab['a_r'], \n",
    "                         amag_sun=amag_sun_des_r)\n",
    "lumZ_gama = getLuminosity(gamaTab['zmag_cmodel'], gamaTab['Z'], extinction=gamaTab['a_z'], \n",
    "                         amag_sun=amag_sun_des_z)\n",
    "\n",
    "## K-corrected luminosity: \n",
    "lumI_kA_gama = lumI_gama - (gamaTab['KCORRECT_I'] / 2.5)\n",
    "lumI_kB_gama = lumI_gama - (gamaTab['KCORRECT_b_I'] / 2.5)\n",
    "lumI_kC_gama = lumI_gama - (gamaTab['KCORRECT_c_I'] / 2.5)\n",
    "\n",
    "## K-corrected cModel color: \n",
    "### Model A\n",
    "gr_kA_gama = ((gamaTab['gmag_cmodel'] - gamaTab['a_g'] + gamaTab['KCORRECT_G']) - \n",
    "             (gamaTab['rmag_cmodel'] - gamaTab['a_r'] + gamaTab['KCORRECT_R']))\n",
    "gi_kA_gama = ((gamaTab['gmag_cmodel'] - gamaTab['a_g'] + gamaTab['KCORRECT_G']) - \n",
    "             (gamaTab['imag_cmodel'] - gamaTab['a_i'] + gamaTab['KCORRECT_I']))\n",
    "gz_kA_gama = ((gamaTab['gmag_cmodel'] - gamaTab['a_g'] + gamaTab['KCORRECT_G']) - \n",
    "             (gamaTab['zmag_cmodel'] - gamaTab['a_z'] + gamaTab['KCORRECT_Z']))\n",
    "ri_kA_gama = ((gamaTab['rmag_cmodel'] - gamaTab['a_r'] + gamaTab['KCORRECT_R']) - \n",
    "             (gamaTab['imag_cmodel'] - gamaTab['a_i'] + gamaTab['KCORRECT_I']))\n",
    "### Model B\n",
    "gr_kB_gama = ((gamaTab['gmag_cmodel'] - gamaTab['a_g'] + gamaTab['KCORRECT_b_G']) - \n",
    "             (gamaTab['rmag_cmodel'] - gamaTab['a_r'] + gamaTab['KCORRECT_b_R']))\n",
    "gi_kB_gama = ((gamaTab['gmag_cmodel'] - gamaTab['a_g'] + gamaTab['KCORRECT_b_G']) - \n",
    "             (gamaTab['imag_cmodel'] - gamaTab['a_i'] + gamaTab['KCORRECT_b_I']))\n",
    "gz_kB_gama = ((gamaTab['gmag_cmodel'] - gamaTab['a_g'] + gamaTab['KCORRECT_b_G']) - \n",
    "             (gamaTab['zmag_cmodel'] - gamaTab['a_z'] + gamaTab['KCORRECT_b_Z']))\n",
    "ri_kB_gama = ((gamaTab['rmag_cmodel'] - gamaTab['a_r'] + gamaTab['KCORRECT_b_R']) - \n",
    "             (gamaTab['imag_cmodel'] - gamaTab['a_i'] + gamaTab['KCORRECT_b_I']))\n",
    "### Model C\n",
    "gr_kC_gama = ((gamaTab['gmag_cmodel'] - gamaTab['a_g'] + gamaTab['KCORRECT_c_G']) - \n",
    "             (gamaTab['rmag_cmodel'] - gamaTab['a_r'] + gamaTab['KCORRECT_c_R']))\n",
    "gi_kC_gama = ((gamaTab['gmag_cmodel'] - gamaTab['a_g'] + gamaTab['KCORRECT_c_G']) - \n",
    "             (gamaTab['imag_cmodel'] - gamaTab['a_i'] + gamaTab['KCORRECT_c_I']))\n",
    "gz_kC_gama = ((gamaTab['gmag_cmodel'] - gamaTab['a_g'] + gamaTab['KCORRECT_c_G']) - \n",
    "             (gamaTab['zmag_cmodel'] - gamaTab['a_z'] + gamaTab['KCORRECT_c_Z']))\n",
    "ri_kC_gama = ((gamaTab['rmag_cmodel'] - gamaTab['a_r'] + gamaTab['KCORRECT_c_R']) - \n",
    "             (gamaTab['imag_cmodel'] - gamaTab['a_i'] + gamaTab['KCORRECT_c_I']))\n",
    "    \n",
    "## Stellar mass from iSEDFit \n",
    "logm2lI_A_gama = (gamaTab['MSTAR'] - lumI_gama)\n",
    "logm2lI_B_gama = (gamaTab['MSTAR_b'] - lumI_gama)\n",
    "logm2lI_C_gama = (gamaTab['MSTAR_c'] - lumI_gama)"
   ]
  },
  {
   "cell_type": "code",
   "execution_count": 23,
   "metadata": {
    "collapsed": true
   },
   "outputs": [],
   "source": [
    "gamaTab.add_column(Column(name='lumI_cmodel', data=lumI_gama))\n",
    "gamaTab.add_column(Column(name='lumG_cmodel', data=lumG_gama))\n",
    "gamaTab.add_column(Column(name='lumR_cmodel', data=lumR_gama))\n",
    "gamaTab.add_column(Column(name='lumZ_cmodel', data=lumZ_gama))\n",
    "gamaTab.add_column(Column(name='gr_kA', data=gr_kA_gama))\n",
    "gamaTab.add_column(Column(name='gi_kA', data=gi_kA_gama))\n",
    "gamaTab.add_column(Column(name='gz_kA', data=gz_kA_gama))\n",
    "gamaTab.add_column(Column(name='ri_kA', data=ri_kA_gama))\n",
    "gamaTab.add_column(Column(name='gr_kB', data=gr_kB_gama))\n",
    "gamaTab.add_column(Column(name='gi_kB', data=gi_kB_gama))\n",
    "gamaTab.add_column(Column(name='gz_kB', data=gz_kB_gama))\n",
    "gamaTab.add_column(Column(name='ri_kB', data=ri_kB_gama))\n",
    "gamaTab.add_column(Column(name='gr_kC', data=gr_kC_gama))\n",
    "gamaTab.add_column(Column(name='gi_kC', data=gi_kC_gama))\n",
    "gamaTab.add_column(Column(name='gz_kC', data=gz_kC_gama))\n",
    "gamaTab.add_column(Column(name='ri_kC', data=ri_kC_gama))\n",
    "gamaTab.add_column(Column(name='logm2lI_A', data=logm2lI_A_gama))\n",
    "gamaTab.add_column(Column(name='logm2lI_B', data=logm2lI_B_gama))\n",
    "gamaTab.add_column(Column(name='logm2lI_C', data=logm2lI_C_gama))"
   ]
  },
  {
   "cell_type": "markdown",
   "metadata": {},
   "source": [
    "## Basic properties of the sample:\n",
    "    * Redshift-Luminosity relation \n",
    "    * Redshift-Color relation \n",
    "    * Redshift-MStar relation\n",
    "    * Mstar-color relation"
   ]
  },
  {
   "cell_type": "code",
   "execution_count": null,
   "metadata": {
    "collapsed": true
   },
   "outputs": [],
   "source": []
  },
  {
   "cell_type": "markdown",
   "metadata": {},
   "source": [
    "## Compare the stellar mass estimates "
   ]
  },
  {
   "cell_type": "code",
   "execution_count": null,
   "metadata": {
    "collapsed": true
   },
   "outputs": [],
   "source": []
  },
  {
   "cell_type": "markdown",
   "metadata": {},
   "source": [
    "## SBP compare "
   ]
  },
  {
   "cell_type": "code",
   "execution_count": 19,
   "metadata": {
    "collapsed": false
   },
   "outputs": [
    {
     "name": "stdout",
     "output_type": "stream",
     "text": [
      "## 0.2 < z < 0.4 ; 11.4 < logM* < 11.6 using SBP Mass \n",
      "\n",
      "## GAMA1 : 1350 galaxies\n",
      "##     Median redshift  :  0.309364974499\n",
      "##     Median logm_sbp  :  11.4801063424\n",
      "##     Median logm_gama :  11.2821502908\n",
      "\n",
      "## MEM1  : 281 galaxies\n",
      "##     Median redshift  :  0.317588478327\n",
      "##     Median logm_sbp  :  11.4813548094\n",
      "##     Median logm_gama :  11.3219896485\n",
      "\n",
      "## BCG1  : 38 galaxies\n",
      "##     Median redshift  :  0.31767821312\n",
      "##     Median logm_sbp  :  11.5174923883\n",
      "##     Median logm_gama :  11.3245989129\n"
     ]
    }
   ],
   "source": [
    "gama1 = gamaTab[(gamaTab['Z'] >= 0.20) & \n",
    "                ((gamaTab['lum_100'] + gamaTab['logm2l_i']) >= 11.4) & \n",
    "                ((gamaTab['lum_100'] + gamaTab['logm2l_i']) <= 11.6)]\n",
    "\n",
    "mem1 = memTab[(memTab['Z'] >= 0.20) & \n",
    "              ((memTab['lum_100'] + memTab['logm2l_i']) >= 11.4) & \n",
    "              ((memTab['lum_100'] + memTab['logm2l_i']) <= 11.6)]\n",
    "\n",
    "bcg1 = bcgTab[(bcgTab['Z'] >= 0.10) & \n",
    "              (bcgTab['Z'] <= 0.50) & \n",
    "              ((bcgTab['lum_100'] + bcgTab['logm2l_i']) >= 11.4) & \n",
    "              ((bcgTab['lum_100'] + bcgTab['logm2l_i']) <= 11.6) & \n",
    "              (bcgTab['P_CEN_1'] >= 0.8)]\n",
    "\n",
    "print(\"## 0.2 < z < 0.4 ; 11.4 < logM* < 11.6 using SBP Mass \\n\")\n",
    "\n",
    "print(\"## GAMA1 : %i galaxies\" % len(gama1))\n",
    "print(\"##     Median redshift  : \", np.nanmedian(gama1['Z']))\n",
    "print(\"##     Median logm_sbp  : \", np.nanmedian(gama1['lum_100'] + gama1['logm2l_i']))\n",
    "print(\"##     Median logm_gama : \", np.nanmedian(gama1['logms_gama']))\n",
    "\n",
    "print(\"\\n## MEM1  : %i galaxies\" % len(mem1))\n",
    "print(\"##     Median redshift  : \", np.nanmedian(mem1['Z']))\n",
    "print(\"##     Median logm_sbp  : \", np.nanmedian(mem1['lum_100'] + mem1['logm2l_i']))\n",
    "print(\"##     Median logm_gama : \", np.nanmedian(mem1['logms_gama']))\n",
    "\n",
    "print(\"\\n## BCG1  : %i galaxies\" % len(bcg1))\n",
    "print(\"##     Median redshift  : \", np.nanmedian(bcg1['Z']))\n",
    "print(\"##     Median logm_sbp  : \", np.nanmedian(bcg1['lum_100'] + bcg1['logm2l_i']))\n",
    "print(\"##     Median logm_gama : \", np.nanmedian(bcg1['logms_gama']))"
   ]
  },
  {
   "cell_type": "code",
   "execution_count": 20,
   "metadata": {
    "collapsed": false
   },
   "outputs": [
    {
     "data": {
      "text/plain": [
       "array([ 0.30524999,  0.3122051 ,  0.30936497,  0.30936497])"
      ]
     },
     "execution_count": 20,
     "metadata": {},
     "output_type": "execute_result"
    }
   ],
   "source": [
    "confidence_interval(bcg1['Z'], alpha=np.asarray([0.3173, 1.0]), \n",
    "                    metric=np.median, numResamples=1000, interpolate=True)\n",
    "\n",
    "confidence_interval(mem1['Z'], alpha=np.asarray([0.3173, 1.0]), \n",
    "                    metric=np.median, numResamples=1000, interpolate=True)\n",
    "\n",
    "confidence_interval(gama1['Z'], alpha=np.asarray([0.3173, 1.0]), \n",
    "                    metric=np.median, numResamples=1000, interpolate=True)"
   ]
  },
  {
   "cell_type": "code",
   "execution_count": null,
   "metadata": {
    "collapsed": true
   },
   "outputs": [],
   "source": []
  }
 ],
 "metadata": {
  "kernelspec": {
   "display_name": "Python 2",
   "language": "python",
   "name": "python2"
  },
  "language_info": {
   "codemirror_mode": {
    "name": "ipython",
    "version": 2
   },
   "file_extension": ".py",
   "mimetype": "text/x-python",
   "name": "python",
   "nbconvert_exporter": "python",
   "pygments_lexer": "ipython2",
   "version": "2.7.11"
  }
 },
 "nbformat": 4,
 "nbformat_minor": 0
}
